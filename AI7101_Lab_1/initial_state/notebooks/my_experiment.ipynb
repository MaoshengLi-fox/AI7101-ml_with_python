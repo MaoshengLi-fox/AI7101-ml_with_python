{
 "cells": [
  {
   "cell_type": "code",
   "execution_count": null,
   "metadata": {},
   "outputs": [],
   "source": [
    "import sys\n",
    "import os\n",
    "sys.path.append(os.path.abspath(\"..\"))\n",
    "from src import create_model,train_model, evaluate, plot_img"
   ]
  },
  {
   "cell_type": "code",
   "execution_count": null,
   "metadata": {},
   "outputs": [],
   "source": [
    "from src import set_seed,load_dataset\n",
    "set_seed(42)\n",
    "test_size=0.2\n",
    "random_state=42\n",
    "X_train, X_test, y_train, y_test=load_dataset(test_size,random_state)"
   ]
  },
  {
   "cell_type": "markdown",
   "metadata": {},
   "source": [
    "### Simple Linear Regression"
   ]
  },
  {
   "cell_type": "code",
   "execution_count": null,
   "metadata": {},
   "outputs": [],
   "source": [
    "model_name='simple_linear'\n",
    "param_grid,pipe=create_model(model_name)\n",
    "gscv=train_model(param_grid,pipe,X_train,y_train)\n",
    "y_pred,best,rmse,mae,r2=evaluate(gscv,X_test,y_test)"
   ]
  },
  {
   "cell_type": "code",
   "execution_count": null,
   "metadata": {},
   "outputs": [],
   "source": [
    "print(f'Best alpha: {best[\"model\"].alpha}')\n",
    "print(f'Best L1 ratio: {best[\"model\"].l1_ratio}')\n",
    "print('=' * 30)\n",
    "print(f'RMSE: {rmse:.2f}')\n",
    "print(f'MAE: {mae:.2f}')\n",
    "print(f'R2: {r2:.2f}')\n",
    "\n",
    "plot_img(y_test,y_pred)"
   ]
  },
  {
   "cell_type": "markdown",
   "metadata": {},
   "source": [
    "### Polynomial Regression"
   ]
  },
  {
   "cell_type": "code",
   "execution_count": null,
   "metadata": {},
   "outputs": [],
   "source": [
    "model_name='polynomial'\n",
    "param_grid,pipe=create_model(model_name)\n",
    "gscv=train_model(param_grid,pipe,X_train,y_train)\n",
    "y_pred,best,rmse,mae,r2=evaluate(gscv,X_test,y_test)"
   ]
  },
  {
   "cell_type": "code",
   "execution_count": null,
   "metadata": {},
   "outputs": [],
   "source": [
    "print(f'Best alpha: {best[\"model\"].alpha}')\n",
    "print(f'Best L1 ratio: {best[\"model\"].l1_ratio}')\n",
    "print('=' * 30)\n",
    "print(f'RMSE: {rmse:.2f}')\n",
    "print(f'MAE: {mae:.2f}')\n",
    "print(f'R2: {r2:.2f}')\n",
    "\n",
    "plot_img(y_test,y_pred)"
   ]
  },
  {
   "cell_type": "markdown",
   "metadata": {},
   "source": [
    "### kNN"
   ]
  },
  {
   "cell_type": "code",
   "execution_count": null,
   "metadata": {},
   "outputs": [],
   "source": [
    "model_name='knn'\n",
    "param_grid,pipe=create_model(model_name)\n",
    "gscv=train_model(param_grid,pipe,X_train,y_train)\n",
    "y_pred,best,rmse,mae,r2=evaluate(gscv,X_test,y_test)"
   ]
  },
  {
   "cell_type": "code",
   "execution_count": null,
   "metadata": {},
   "outputs": [],
   "source": [
    "print(f'Best n_neighbors: {best[\"model\"].n_neighbors}')\n",
    "print(f'Best metric: {best[\"model\"].p}')\n",
    "print('=' * 30)\n",
    "print(f'RMSE: {rmse:.2f}')\n",
    "print(f'MAE: {mae:.2f}')\n",
    "print(f'R2: {r2:.2f}')\n",
    "\n",
    "plot_img(y_test,y_pred)"
   ]
  }
 ],
 "metadata": {
  "kernelspec": {
   "display_name": "ml_lab1",
   "language": "python",
   "name": "python3"
  },
  "language_info": {
   "codemirror_mode": {
    "name": "ipython",
    "version": 3
   },
   "file_extension": ".py",
   "mimetype": "text/x-python",
   "name": "python",
   "nbconvert_exporter": "python",
   "pygments_lexer": "ipython3",
   "version": "3.10.18"
  }
 },
 "nbformat": 4,
 "nbformat_minor": 2
}
