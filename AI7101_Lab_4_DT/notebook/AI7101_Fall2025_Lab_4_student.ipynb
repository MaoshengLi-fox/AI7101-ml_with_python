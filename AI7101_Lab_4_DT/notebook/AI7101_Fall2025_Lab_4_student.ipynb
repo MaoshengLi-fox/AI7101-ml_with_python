{
 "cells": [
  {
   "cell_type": "markdown",
   "metadata": {
    "id": "BafKS1rR6Mkc"
   },
   "source": [
    "<div class=\"alert alert-block alert-warning\">\n",
    "<h1><span style=\"color:green\"> AI7101 Machine Learning with Python-001 (2025 Fall)\n",
    "\n",
    "<h2><span style=\"color:green\"> Lab-4 </span><h2>\n",
    "</div>\n",
    "\n",
    "TAs: Shuxian Zou, Jiacheng Cui\n",
    "---\n",
    "---"
   ]
  },
  {
   "cell_type": "markdown",
   "metadata": {
    "id": "AhLr4lNpYPH3"
   },
   "source": [
    "## 1. Decision Tree Algorithm (60 points)\n",
    "**Decision Tree (DT)** algorithm belongs to the family of supervised machine learning algorithms which can be used for both regression and classification tasks. This algorithm takes in data $(X\\in\\mathbb{R}^{n\\times d},$ where $n$ is the number of samples and $d$ is the number of features in each sample) and constructs a tree-structured classifier or regression model.\n",
    "\n",
    "Following are the main steps to construct a DT:  \n",
    "**Step-1:** Begin the tree with the root node where entire dataset is considered.  \n",
    "**Step-2:** Find the best attribute/feature in the dataset using Attribute Selection Measure (ASM) and declare this attribute as root node label.  \n",
    "**Step-3:** Divide the dataset into subsets using conditions on the values of root node data. Each subset of data will become a child node.  \n",
    "**Step-4:** At each child node, use ASM and further divide the dataset.  \n",
    "**Step-5:** Recursively make new child nodes using the subsets of the dataset and  continue this process until a stage is reached where one cannot create the child node and call the final nodes as leaf nodes.\n",
    "\n",
    "\n",
    "\n"
   ]
  },
  {
   "cell_type": "markdown",
   "metadata": {
    "id": "JFFXRR2a7_b2"
   },
   "source": [
    "## 1.1 Dataset\n",
    "We will use a toy dataset 'WEKA Weather Data' published by Fordham University for decision tree algorithm related tasks."
   ]
  },
  {
   "cell_type": "code",
   "execution_count": 101,
   "metadata": {
    "id": "1AcpBsi6AxzK"
   },
   "outputs": [],
   "source": [
    "import  pandas as pd               # to handle tabular-structured heterogeneous data, data processing, CSV file I/O (e.g. pd.read_csv)\n",
    "import numpy as np                 # linear algebra and numerical computing\n",
    "import matplotlib.pyplot as plt    # for data visualization\n",
    "import seaborn as sns              # for data visualization\n",
    "import os                          # for paths and operating system related commands"
   ]
  },
  {
   "cell_type": "code",
   "execution_count": 102,
   "metadata": {
    "id": "CLwsCll4yBtq"
   },
   "outputs": [
    {
     "name": "stdout",
     "output_type": "stream",
     "text": [
      "WEKA Weather Data published by Fordham University:\n",
      "\n",
      "\n"
     ]
    },
    {
     "data": {
      "text/html": [
       "<div>\n",
       "<style scoped>\n",
       "    .dataframe tbody tr th:only-of-type {\n",
       "        vertical-align: middle;\n",
       "    }\n",
       "\n",
       "    .dataframe tbody tr th {\n",
       "        vertical-align: top;\n",
       "    }\n",
       "\n",
       "    .dataframe thead th {\n",
       "        text-align: right;\n",
       "    }\n",
       "</style>\n",
       "<table border=\"1\" class=\"dataframe\">\n",
       "  <thead>\n",
       "    <tr style=\"text-align: right;\">\n",
       "      <th></th>\n",
       "      <th>outlook</th>\n",
       "      <th>temperature</th>\n",
       "      <th>humidity</th>\n",
       "      <th>windy</th>\n",
       "      <th>play</th>\n",
       "    </tr>\n",
       "  </thead>\n",
       "  <tbody>\n",
       "    <tr>\n",
       "      <th>0</th>\n",
       "      <td>sunny</td>\n",
       "      <td>hot</td>\n",
       "      <td>high</td>\n",
       "      <td>FALSE</td>\n",
       "      <td>no</td>\n",
       "    </tr>\n",
       "    <tr>\n",
       "      <th>1</th>\n",
       "      <td>sunny</td>\n",
       "      <td>hot</td>\n",
       "      <td>high</td>\n",
       "      <td>TRUE</td>\n",
       "      <td>no</td>\n",
       "    </tr>\n",
       "    <tr>\n",
       "      <th>2</th>\n",
       "      <td>overcast</td>\n",
       "      <td>hot</td>\n",
       "      <td>high</td>\n",
       "      <td>FALSE</td>\n",
       "      <td>yes</td>\n",
       "    </tr>\n",
       "    <tr>\n",
       "      <th>3</th>\n",
       "      <td>rainy</td>\n",
       "      <td>mild</td>\n",
       "      <td>high</td>\n",
       "      <td>FALSE</td>\n",
       "      <td>yes</td>\n",
       "    </tr>\n",
       "    <tr>\n",
       "      <th>4</th>\n",
       "      <td>rainy</td>\n",
       "      <td>cool</td>\n",
       "      <td>normal</td>\n",
       "      <td>FALSE</td>\n",
       "      <td>yes</td>\n",
       "    </tr>\n",
       "    <tr>\n",
       "      <th>5</th>\n",
       "      <td>rainy</td>\n",
       "      <td>cool</td>\n",
       "      <td>normal</td>\n",
       "      <td>TRUE</td>\n",
       "      <td>no</td>\n",
       "    </tr>\n",
       "    <tr>\n",
       "      <th>6</th>\n",
       "      <td>overcast</td>\n",
       "      <td>cool</td>\n",
       "      <td>normal</td>\n",
       "      <td>TRUE</td>\n",
       "      <td>yes</td>\n",
       "    </tr>\n",
       "    <tr>\n",
       "      <th>7</th>\n",
       "      <td>sunny</td>\n",
       "      <td>mild</td>\n",
       "      <td>high</td>\n",
       "      <td>FALSE</td>\n",
       "      <td>no</td>\n",
       "    </tr>\n",
       "    <tr>\n",
       "      <th>8</th>\n",
       "      <td>sunny</td>\n",
       "      <td>cool</td>\n",
       "      <td>normal</td>\n",
       "      <td>FALSE</td>\n",
       "      <td>yes</td>\n",
       "    </tr>\n",
       "    <tr>\n",
       "      <th>9</th>\n",
       "      <td>rainy</td>\n",
       "      <td>mild</td>\n",
       "      <td>normal</td>\n",
       "      <td>FALSE</td>\n",
       "      <td>yes</td>\n",
       "    </tr>\n",
       "    <tr>\n",
       "      <th>10</th>\n",
       "      <td>sunny</td>\n",
       "      <td>mild</td>\n",
       "      <td>normal</td>\n",
       "      <td>TRUE</td>\n",
       "      <td>yes</td>\n",
       "    </tr>\n",
       "    <tr>\n",
       "      <th>11</th>\n",
       "      <td>overcast</td>\n",
       "      <td>mild</td>\n",
       "      <td>high</td>\n",
       "      <td>TRUE</td>\n",
       "      <td>yes</td>\n",
       "    </tr>\n",
       "    <tr>\n",
       "      <th>12</th>\n",
       "      <td>overcast</td>\n",
       "      <td>hot</td>\n",
       "      <td>normal</td>\n",
       "      <td>FALSE</td>\n",
       "      <td>yes</td>\n",
       "    </tr>\n",
       "    <tr>\n",
       "      <th>13</th>\n",
       "      <td>rainy</td>\n",
       "      <td>mild</td>\n",
       "      <td>high</td>\n",
       "      <td>TRUE</td>\n",
       "      <td>no</td>\n",
       "    </tr>\n",
       "  </tbody>\n",
       "</table>\n",
       "</div>"
      ],
      "text/plain": [
       "     outlook temperature humidity  windy play\n",
       "0      sunny         hot     high  FALSE   no\n",
       "1      sunny         hot     high   TRUE   no\n",
       "2   overcast         hot     high  FALSE  yes\n",
       "3      rainy        mild     high  FALSE  yes\n",
       "4      rainy        cool   normal  FALSE  yes\n",
       "5      rainy        cool   normal   TRUE   no\n",
       "6   overcast        cool   normal   TRUE  yes\n",
       "7      sunny        mild     high  FALSE   no\n",
       "8      sunny        cool   normal  FALSE  yes\n",
       "9      rainy        mild   normal  FALSE  yes\n",
       "10     sunny        mild   normal   TRUE  yes\n",
       "11  overcast        mild     high   TRUE  yes\n",
       "12  overcast         hot   normal  FALSE  yes\n",
       "13     rainy        mild     high   TRUE   no"
      ]
     },
     "execution_count": 102,
     "metadata": {},
     "output_type": "execute_result"
    }
   ],
   "source": [
    "# prepare pandas dataframe\n",
    "\n",
    "header =   \"outlook,temperature,humidity,windy,play\"\n",
    "data = \\\n",
    "'''sunny,hot,high,FALSE,no\n",
    "sunny,hot,high,TRUE,no\n",
    "overcast,hot,high,FALSE,yes\n",
    "rainy,mild,high,FALSE,yes\n",
    "rainy,cool,normal,FALSE,yes\n",
    "rainy,cool,normal,TRUE,no\n",
    "overcast,cool,normal,TRUE,yes\n",
    "sunny,mild,high,FALSE,no\n",
    "sunny,cool,normal,FALSE,yes\n",
    "rainy,mild,normal,FALSE,yes\n",
    "sunny,mild,normal,TRUE,yes\n",
    "overcast,mild,high,TRUE,yes\n",
    "overcast,hot,normal,FALSE,yes\n",
    "rainy,mild,high,TRUE,no'''\n",
    "\n",
    "\n",
    "df = pd.DataFrame([sub.split(\",\") for sub in data.split('\\n')])\n",
    "df.columns = header.split(',')\n",
    "\n",
    "print('WEKA Weather Data published by Fordham University:\\n\\n')\n",
    "df"
   ]
  },
  {
   "cell_type": "code",
   "execution_count": 103,
   "metadata": {
    "id": "qi6GfEhKy9pK"
   },
   "outputs": [
    {
     "name": "stdout",
     "output_type": "stream",
     "text": [
      "Number of Samples             =  14\n",
      "Number of Attributes/Features =  4\n"
     ]
    }
   ],
   "source": [
    "print('Number of Samples             = ', df.shape[0])\n",
    "print('Number of Attributes/Features = ', df.shape[1]-1) # last column contains class labels"
   ]
  },
  {
   "cell_type": "code",
   "execution_count": 104,
   "metadata": {
    "id": "ZapckElS1xpP"
   },
   "outputs": [
    {
     "name": "stdout",
     "output_type": "stream",
     "text": [
      "Attributes/Features Names :  ['outlook', 'temperature', 'humidity', 'windy', 'play'] \n",
      "\n",
      "\n",
      "Unique Values of Attributes:\n",
      "\n",
      "'outlook' = ['sunny' 'overcast' 'rainy'] \n",
      "'temperature' = ['hot' 'mild' 'cool'] \n",
      "'humidity' = ['high' 'normal'] \n",
      "'windy' = ['FALSE' 'TRUE'] \n",
      "'play' = ['no' 'yes'] \n"
     ]
    }
   ],
   "source": [
    "print('Attributes/Features Names : ' , list(df.columns), '\\n\\n')\n",
    "print('Unique Values of Attributes:\\n')\n",
    "attrib_name_vals_dict = {}\n",
    "for col_name in df.columns:\n",
    "    attrib_name_vals_dict[col_name] = list(df[col_name].unique())\n",
    "    print(f\"'{col_name}' = {df[col_name].unique()} \")"
   ]
  },
  {
   "cell_type": "code",
   "execution_count": 105,
   "metadata": {
    "id": "0M_OxXoI1NiG"
   },
   "outputs": [
    {
     "name": "stdout",
     "output_type": "stream",
     "text": [
      "Number of Class = 2\n"
     ]
    }
   ],
   "source": [
    "print(f\"Number of Class = {len(df['play'].unique())}\")"
   ]
  },
  {
   "cell_type": "markdown",
   "metadata": {
    "id": "Q8M9ZXABGMW2"
   },
   "source": [
    "### 1.1(a) : Get Conditional Data from DataFrame (5 points)"
   ]
  },
  {
   "cell_type": "code",
   "execution_count": 106,
   "metadata": {
    "id": "JHK-2RJUAIMm"
   },
   "outputs": [],
   "source": [
    "def get_conditional_data(df, condition_list):\n",
    "    # input: dataframe and list of tuples. each tuple should be of the form: (attrib_name, attrib_value)\n",
    "    # output: returns conditional data samples from the dataframe\n",
    "\n",
    "    bools = np.array([True]*df.shape[0])  # initially assume all rows are valid\n",
    "    for attrib_name, attrib_value in condition_list:\n",
    "        # TODO: update 'bools' to keep only rows where the condition (attrib_name == attrib_value) holds\n",
    "        # You should use pandas filtering: df[attrib_name] == attrib_value\n",
    "        # Then combine it with current 'bools' using logical AND\n",
    "        # Hint: np.array(...) & np.array(...)\n",
    "\n",
    "        # ===> YOUR CODE HERE <===\n",
    "        bools = np.array(bools) & np.array(df[attrib_name] == attrib_value)\n",
    "        pass\n",
    "\n",
    "\n",
    "    return df[bools]\n"
   ]
  },
  {
   "cell_type": "code",
   "execution_count": 107,
   "metadata": {
    "id": "D_XAqvKyBhUt"
   },
   "outputs": [
    {
     "name": "stdout",
     "output_type": "stream",
     "text": [
      "✅ Test Passed! The function correctly returns the filtered DataFrame.\n"
     ]
    }
   ],
   "source": [
    "# === Condition to test ===\n",
    "cond_list = [('outlook', 'sunny'), ('windy', 'FALSE')]\n",
    "\n",
    "# === Expected Output ===\n",
    "expected_df = df[(df['outlook'] == 'sunny') & (df['windy'] == 'FALSE')]\n",
    "\n",
    "# === Run Test ===\n",
    "result_df = get_conditional_data(df, cond_list)\n",
    "# === Check correctness ===\n",
    "try:\n",
    "    pd.testing.assert_frame_equal(result_df.reset_index(drop=True), expected_df.reset_index(drop=True))\n",
    "    print(\"✅ Test Passed! The function correctly returns the filtered DataFrame.\")\n",
    "except AssertionError as e:\n",
    "    print(\"❌ Test Failed! The returned DataFrame is incorrect.\")\n",
    "    print(e)"
   ]
  },
  {
   "cell_type": "markdown",
   "metadata": {
    "id": "ojbr4L0dGRoR"
   },
   "source": [
    "### 1.1(b) : Get Categorical Distribution of Class Attribute from DataFrame (5 points)"
   ]
  },
  {
   "cell_type": "code",
   "execution_count": 108,
   "metadata": {
    "id": "TCmCKvaeEP7O"
   },
   "outputs": [],
   "source": [
    "def get_class_distribution(df, class_attrib_name):\n",
    "    # input: dataframe, name of the class attribute in dataframe\n",
    "    # output: returns the categorical distribution of class attribute in the given dataframe\n",
    "\n",
    "    # Step 1: compute frequency of each class (hint: use value_counts())\n",
    "    counts = df[class_attrib_name].value_counts()   # do not convert to numpy yet\n",
    "\n",
    "    # Step 2: TODO - compute class probabilities from counts\n",
    "    # ===> YOUR CODE HERE <===\n",
    "    # You should normalize the counts to sum to 1, by dividing by the total count.\n",
    "    # Hint: use counts.values / counts.sum()\n",
    "\n",
    "    probs = (counts.values/counts.sum())  # placeholder, replace with correct expression\n",
    "\n",
    "\n",
    "    # Step 3: get class labels\n",
    "    class_labels = list(counts.index)\n",
    "\n",
    "    return class_labels, probs"
   ]
  },
  {
   "cell_type": "code",
   "execution_count": 109,
   "metadata": {
    "id": "hi5hfaW_Faih"
   },
   "outputs": [
    {
     "name": "stdout",
     "output_type": "stream",
     "text": [
      "✅ Test passed! The function correctly computes the class distribution for 'play'.\n"
     ]
    }
   ],
   "source": [
    "# --- Ground Truth ---\n",
    "expected_labels = ['yes', 'no']\n",
    "expected_probs = [9/14, 5/14]\n",
    "\n",
    "# --- Test ---\n",
    "labels, probs = get_class_distribution(df, 'play')\n",
    "try:\n",
    "    assert labels == expected_labels, \"❌ Error: Class labels do not match the expected output.\"\n",
    "    assert np.allclose(probs, expected_probs, atol=1e-6), \"❌ Error: Class probabilities are incorrect.\"\n",
    "    print(\"✅ Test passed! The function correctly computes the class distribution for 'play'.\")\n",
    "except AssertionError as e:\n",
    "    print(str(e))\n",
    "    print(\"Returned labels:\", labels)\n",
    "    print(\"Returned probabilities:\", probs)\n"
   ]
  },
  {
   "cell_type": "code",
   "execution_count": 110,
   "metadata": {
    "id": "VX3AddtXHDfS"
   },
   "outputs": [],
   "source": [
    "def plot_categorical_dis(class_labels,class_probs):\n",
    "\n",
    "    df = pd.DataFrame({\n",
    "        \"Class\": class_labels,\n",
    "        \"Probability\": np.array(class_probs) * 100\n",
    "    })\n",
    "\n",
    "    fig = plt.figure(figsize = (6, 3))\n",
    "\n",
    "    # creating the bar plot\n",
    "    ax = sns.barplot(data=df, x=class_labels, y=np.array(class_probs)*100)\n",
    "\n",
    "\n",
    "    plt.xlabel(\"Class Labels\", fontsize=15)\n",
    "    plt.ylabel(\"Probabilities (%)\", fontsize=15)\n",
    "    plt.title(\"Categorical Distribution of Class: 'Play' \", fontsize=15)\n",
    "    plt.show()"
   ]
  },
  {
   "cell_type": "code",
   "execution_count": 111,
   "metadata": {
    "id": "0kNSrRivG4Q6"
   },
   "outputs": [
    {
     "data": {
      "image/png": "[encoded data removed]",
      "text/plain": [
       "<Figure size 600x300 with 1 Axes>"
      ]
     },
     "metadata": {},
     "output_type": "display_data"
    }
   ],
   "source": [
    "plot_categorical_dis(labels, probs)"
   ]
  },
  {
   "cell_type": "code",
   "execution_count": 112,
   "metadata": {
    "id": "rntwPeV5GY9i"
   },
   "outputs": [
    {
     "name": "stdout",
     "output_type": "stream",
     "text": [
      "(['sunny', 'rainy', 'overcast'], array([0.35714286, 0.35714286, 0.28571429]))\n"
     ]
    }
   ],
   "source": [
    "# this function can be used to find categorical distribution of unique values of any attribute\n",
    "\n",
    "def get_attrib_distribution(df, attrib_name):\n",
    "    # input: dataframe, name of the attribute in dataframe\n",
    "    # output: returns the categorical distribution of the unique values of attribute in the given dataframe\n",
    "\n",
    "    counts = df[attrib_name].value_counts().to_numpy()\n",
    "    probs  = counts/sum(counts)\n",
    "    attrib_unique_values = list(df[attrib_name].value_counts().index)\n",
    "    return attrib_unique_values , probs\n",
    "\n",
    "print(get_attrib_distribution(df, 'outlook'))"
   ]
  },
  {
   "cell_type": "markdown",
   "metadata": {
    "id": "fATHaxeL6Mkh"
   },
   "source": [
    "## 1.2 Attribute Selection Measure\n",
    "At each decision node, algorithm uses an Attribute Selection Measure (ASM) to pick the best attribute from dataset. ASM is a heuristic for selecting the splitting criterion that partitions data into the best possible manner. It is also known as splitting rule because it helps us to decide which feature/attribute to split on at each step in building the tree. ASM assigns a rank to each feature(or attribute). Best score/rank attribute will be selected as a splitting attribute. Most popular selection measures are Information Gain, Information Gain Ratio, and Gini Index. Before moving to brief introduction of ASMs, we define a few terminologies/notations.\n",
    "\n",
    "Assume that $\\mathcal{X}=\\{(\\mathbf{x}^{(i)}, y^{(i)})\\}_{i=1}^{n}$ represents the dataset containing $n$ samples and each sample contains $d$ attributes and a class label. Values of $d$ attributes in $i_{\\text{th}}$ sample are represented by $\\mathbf{x}^{(i)}=(x_1^{(i)},x_2^{(i)},\\ldots,x_d^{(i)})^\\top$. The notation $vals(x_j)$ represents the possible values of $x_j$  ($j_{\\text{th}}$ attribute) e.g. if  $x_j=\\text{'Temperature'}$, then $vals(x_j)=\\{\\mathrm{Hot}, \\mathrm{Mild}, \\mathrm{Cool}\\}$.  Moreover, assume that there are $K$ classes in the dataset and let $\\mathrm{\\mathbf{p}}=(p_1,p_2,\\ldots,p_K)^\\top$ represent the vector containing percentage (or probability) of each class present in the dataset.\n",
    "<br><br><br>\n",
    "### 1.2(a) : Entropy (5 points)\n",
    "Entropy of categorical distribution $\\mathbf{p}$, denoted as $\\mathrm{H}(\\mathbf{p})$, is defined as follows:\n",
    "$$\\mathrm{H}(\\mathbf{p})=-\\sum_{k=1}^{K} p_{k}\\log_{2}(p_{k})$$"
   ]
  },
  {
   "cell_type": "code",
   "execution_count": 113,
   "metadata": {
    "id": "h4sykwc16Mki"
   },
   "outputs": [],
   "source": [
    "def get_entropy(p):\n",
    "    # input: categorical distribution (list or array of probabilities, must sum to 1)\n",
    "    # output: entropy of the distribution, computed as H(p) = -∑ p_k * log2(p_k)\n",
    "    p = np.array(p)\n",
    "    p_nonzero = p[p > 0]\n",
    "\n",
    "    # TODO your code here\n",
    "    entropy = - np.sum(p_nonzero * np.log2(p_nonzero))\n",
    "\n",
    "    return entropy\n"
   ]
  },
  {
   "cell_type": "code",
   "execution_count": 114,
   "metadata": {
    "id": "0poUt_Eu6Mkj"
   },
   "outputs": [
    {
     "name": "stdout",
     "output_type": "stream",
     "text": [
      "✅ All entropy tests passed! Your function works correctly.\n"
     ]
    }
   ],
   "source": [
    "def test_get_entropy():\n",
    "    try:\n",
    "        # Test Case 1: Uniform distribution over 4 categories\n",
    "        p1 = [0.25, 0.25, 0.25, 0.25]\n",
    "        expected1 = 2.0  # log2(4) = 2\n",
    "        result1 = get_entropy(p1)\n",
    "        assert np.isclose(result1, expected1, atol=1e-6), \"❌ Error in uniform distribution entropy\"\n",
    "\n",
    "        # Test Case 2: Skewed binary distribution\n",
    "        p2 = [0.8, 0.2]\n",
    "        expected2 = -(0.8 * np.log2(0.8) + 0.2 * np.log2(0.2))  # ≈ 0.7219\n",
    "        result2 = get_entropy(p2)\n",
    "        assert np.isclose(result2, expected2, atol=1e-6), \"❌ Error in skewed distribution entropy\"\n",
    "\n",
    "        # Test Case 3: Deterministic distribution (zero entropy)\n",
    "        p3 = [1.0, 0.0]\n",
    "        expected3 = 0.0\n",
    "        result3 = get_entropy(p3)\n",
    "        assert np.isclose(result3, expected3, atol=1e-6), \"❌ Error in deterministic distribution entropy\"\n",
    "\n",
    "        # Test Case 4: Three-class distribution\n",
    "        p4 = [0.5, 0.3, 0.2]\n",
    "        expected4 = -(0.5*np.log2(0.5) + 0.3*np.log2(0.3) + 0.2*np.log2(0.2))  # ≈ 1.485\n",
    "        result4 = get_entropy(p4)\n",
    "        assert np.isclose(result4, expected4, atol=1e-6), \"❌ Error in 3-class distribution entropy\"\n",
    "\n",
    "        print(\"✅ All entropy tests passed! Your function works correctly.\")\n",
    "\n",
    "    except AssertionError as e:\n",
    "        print(str(e))\n",
    "\n",
    "test_get_entropy()\n"
   ]
  },
  {
   "cell_type": "markdown",
   "metadata": {
    "id": "oUkZComb3WfF"
   },
   "source": [
    "### 1.2(b) : Information Gain $\\mathrm{(IG)}$ (5 points)\n",
    "\n",
    "Information Gain associated with $x_j$ attribute (after splitting the source dataset into multiple child subsets), denoted as $\\operatorname{IG}(\\mathbf{p},x_j)$, is calculated as follows:\n",
    "$$\n",
    "{\\displaystyle \\underbrace{\\operatorname{IG}(\\mathbf{p},x_j)} _{\\text{information gain}}=\\underbrace {\\mathrm {H}(\\mathbf{p})}_{\\text{entropy (parent)}}-\\underbrace {\\mathrm {H} (\\mathbf{p}\\mid x_j)}_{\\text{weighted sum of entropies (children)}}}$$\n",
    "\n",
    "where $\\mathrm {H}(\\mathbf{p}\\mid x_j)$ is the weighted sum of entropies of class labels present in child node data subsets. Definition of $\\mathrm {H}(\\mathbf{p}\\mid x_j)$ is given below:  \n",
    "\n",
    "$$\n",
    "\\mathrm {H}(\\mathbf{p}\\mid x_j)=\\sum _{v\\in vals(x_j)} \\Pr(x_j=v)\\times\\mathrm{H}(\\mathbf{p}\\mid x_j=v),$$\n",
    "where $\\Pr(x_j=v)$ is the percentage of samples in source data in which value of $j_{\\text{th}}$ feature is equal to $v$. In order to calculate $\\mathrm{H}(\\mathbf{p}\\mid x_j=v)$, we first split the source data at decision node and then select the subset in which value of $x_j$ attribute is equal to $v$. In this subset of data, we find the probability of each class label, i.e. $\\Pr(k\\mid x_j)$, and then compute conditional entropy as follows:\n",
    "$$\\mathrm{H}(\\mathbf{p}\\mid x_j=v) = -\\sum_{k=1}^{K} \\Pr(k\\mid x_j=v)\\times\\log_{2}\\left(\\Pr(k\\mid x_j=v)\\right).$$\n",
    "Information gain computes the difference between entropy of class labels before split and average entropy of class labels after splitting the source dataset based on given attribute values.\n",
    "In layman terms, it calculates how much information a feature provides us about a class. Therefore, a node/attribute having the highest information gain is picked for decision node. This process is repeated for every decision node."
   ]
  },
  {
   "cell_type": "code",
   "execution_count": 115,
   "metadata": {
    "id": "WHCbmYN64AlF"
   },
   "outputs": [],
   "source": [
    "def get_info_gain(df, attrib_name=None, class_attrib_name=None):\n",
    "    # input: df is the full dataset\n",
    "    # attrib_name: a feature column (x_j)\n",
    "    # class_attrib_name: the target label (e.g., \"play\")\n",
    "    # output: information gain for splitting on attrib_name to predict class_attrib_name\n",
    "\n",
    "    # Step 1: compute unconditional entropy H(p)\n",
    "    class_labels, class_probs = get_class_distribution(df, class_attrib_name)\n",
    "    H_p = get_entropy(class_probs)\n",
    "\n",
    "    # Step 2: compute the probability of each value of attribute x_j\n",
    "    attrib_unique_values, attrib_probs = get_attrib_distribution(df, attrib_name)\n",
    "\n",
    "    # Step 3: compute conditional entropy H(p | x_j)\n",
    "    H_p_xj = 0\n",
    "    for v_i, v in enumerate(attrib_unique_values):\n",
    "        df_xj_v = get_conditional_data(df, [(attrib_name, v)])\n",
    "\n",
    "        class_labels_xj_v, class_probs_xj_v = get_class_distribution(df_xj_v, class_attrib_name)\n",
    "\n",
    "        H_p_xj_v = get_entropy(class_probs_xj_v)\n",
    "\n",
    "        # ===> YOUR CODE HERE <===\n",
    "        # Update the conditional entropy by adding Pr(x_j=v) * H(p | x_j=v)\n",
    "        # Hint: use attrib_probs[v_i] * H_p_xj_v\n",
    "        H_p_xj += attrib_probs[v_i] * H_p_xj_v\n",
    "        pass\n",
    "\n",
    "    # Step 4: compute final information gain\n",
    "    # ===> YOUR CODE HERE <===\n",
    "    # InfoGain = H(p) - H(p | x_j)\n",
    "    info_gain = H_p-H_p_xj  # replace this with H_p - H_p_xj\n",
    "\n",
    "    return info_gain\n"
   ]
  },
  {
   "cell_type": "code",
   "execution_count": 116,
   "metadata": {
    "id": "-KrECB59LEjl"
   },
   "outputs": [
    {
     "name": "stdout",
     "output_type": "stream",
     "text": [
      "✅ Test passed! Info gain = 0.2467\n"
     ]
    }
   ],
   "source": [
    "\n",
    "def test_get_info_gain():\n",
    "    # Run student's function\n",
    "    info_gain = get_info_gain(df, attrib_name=\"outlook\", class_attrib_name=\"play\")\n",
    "\n",
    "    # Expected result from textbook (based on entropy calculation)\n",
    "    expected_info_gain = 0.2467\n",
    "\n",
    "    # Compare with small tolerance\n",
    "    if np.isclose(info_gain, expected_info_gain, atol=1e-3):\n",
    "        print(f\"✅ Test passed! Info gain = {info_gain:.4f}\")\n",
    "    else:\n",
    "        print(\"❌ Test failed!\")\n",
    "        print(f\"Expected ≈ {expected_info_gain:.4f}, but got {info_gain:.4f}\")\n",
    "\n",
    "test_get_info_gain()"
   ]
  },
  {
   "cell_type": "markdown",
   "metadata": {
    "id": "lMBlkjuvXIx0"
   },
   "source": [
    "<br><br>\n",
    "### **TO DO:**  (5 points)\n",
    "\n",
    "Compute the **Information Gain (IG)** for the following attributes in the dataset:  \n",
    "- `outlook`  \n",
    "- `temperature`  \n",
    "- `humidity`  \n",
    "- `windy`  \n",
    "\n",
    "<br>\n",
    "\n",
    "**Question:**  \n",
    "Based on the computed **Information Gain** values, **which attribute** should be selected as the **root node** in a decision tree?  \n",
    "**Justify your answer briefly.**\n",
    "\n",
    "<br><br>\n",
    "\n",
    "**Answer:** \n",
    "<!-- Your answer goes here -->\n",
    "based on the computed IG,  **outlook**  should be selected as the root node in a DT\n"
   ]
  },
  {
   "cell_type": "code",
   "execution_count": 117,
   "metadata": {
    "id": "_KXtIZP5aBKn"
   },
   "outputs": [
    {
     "name": "stdout",
     "output_type": "stream",
     "text": [
      "Information Gain of 'outlook'     = 0.24675\n",
      "Information Gain of 'temperature' = 0.02922\n",
      "Information Gain of 'humidity'    = 0.15184\n",
      "Information Gain of 'windy'       = 0.04813\n"
     ]
    }
   ],
   "source": [
    "info_gain_outlook = get_info_gain(df, attrib_name=\"outlook\", class_attrib_name=\"play\") # TODO: replace 0 with the correct value by calling get_info_gain\n",
    "info_gain_temperature = get_info_gain(df, attrib_name=\"temperature\", class_attrib_name=\"play\") # TODO: replace 0 with the correct value by calling get_info_gain\n",
    "info_gain_humidity    = get_info_gain(df, attrib_name=\"humidity\", class_attrib_name=\"play\") # TODO: replace 0 with the correct value by calling get_info_gain\n",
    "info_gain_windy       = get_info_gain(df, attrib_name=\"windy\", class_attrib_name=\"play\") # TODO: replace 0 with the correct value by calling get_info_gain\n",
    "print(\"Information Gain of 'outlook'     =\" , round(info_gain_outlook,5))\n",
    "print(\"Information Gain of 'temperature' =\" , round(info_gain_temperature,5))\n",
    "print(\"Information Gain of 'humidity'    =\" , round(info_gain_humidity,5))\n",
    "print(\"Information Gain of 'windy'       =\" , round(info_gain_windy,5))"
   ]
  },
  {
   "cell_type": "markdown",
   "metadata": {
    "id": "trZ79VyY4Az6"
   },
   "source": [
    "### 1.2(c) : Information Gain Ratio $\\mathrm{(IGR)}$ (5 points)\n",
    "Information Gain is biased towards choosing an attribute having a large number of distinct values. Information Gain Ratio (IGR) is a modification of Information Gain that reduces its bias and is usually the best option. It was introduced by [Ross Quinlan](https://link.springer.com/article/10.1007/BF00116251) in 1986.  IGR overcomes the problem with information gain by taking into account the number of branches that would result before making the split. It corrects information gain by taking the intrinsic information of a split into account. Formal definition of Information Gain Ratio of an attribute $x_j$, denotes as $\\operatorname{IGR}(\\mathbf{p},x_j)$, is given below:\n",
    "\n",
    "$$\\operatorname{IGR}(\\mathbf{p},x_j) = \\frac{\\operatorname{IG}(\\mathbf{p},x_j)}{\\mathrm{SplitInfo}(x_j)},$$\n",
    "\n",
    "where $\\mathrm{SplitInfo}(x_j) = -\\sum_{v\\in vals(x_j)} \\Pr(x_j=v) \\times \\log_2(\\Pr(x_j=v))$. In other words, `SplitInfo`$(x_j)$ is actually the entropy of the categorical distribution of the values of $x_j$ attribute. An attribute which has more number of distinct values, will have large SplitInfo and it will reduce IGR of that attribute. Similar to IG, an attribute with higher value of IGR is selected for a particular decision node."
   ]
  },
  {
   "cell_type": "code",
   "execution_count": 118,
   "metadata": {
    "id": "uLc1jOzE5Spx"
   },
   "outputs": [],
   "source": [
    "def get_split_info(df, attrib_name=None):\n",
    "    # Step 1: Get unique values and their probabilities for the attribute\n",
    "    attrib_unique_values, probs = get_attrib_distribution(df, attrib_name)\n",
    "\n",
    "    # Step 2: [TO BE COMPLETED] Compute the entropy of the attribute's value distribution\n",
    "    # Hint: Use the get_entropy function on the probs list\n",
    "    split_info = get_entropy(probs)\n",
    "\n",
    "    return split_info\n"
   ]
  },
  {
   "cell_type": "code",
   "execution_count": 119,
   "metadata": {
    "id": "mi2t1bAheKAF"
   },
   "outputs": [
    {
     "name": "stdout",
     "output_type": "stream",
     "text": [
      "\n",
      "=== SplitInfo Unit Test ===\n",
      "Attribute: outlook      | Expected: 1.57741 | Got: 1.57741 | ✅ Pass: True\n",
      "Attribute: temperature  | Expected: 1.55666 | Got: 1.55666 | ✅ Pass: True\n",
      "Attribute: humidity     | Expected: 1.00000 | Got: 1.00000 | ✅ Pass: True\n",
      "Attribute: windy        | Expected: 0.98523 | Got: 0.98523 | ✅ Pass: True\n",
      "🎯 All tests passed!\n"
     ]
    }
   ],
   "source": [
    "# Ground truth SplitInfo values from Wikipedia\n",
    "ground_truth = {\n",
    "    'outlook':     1.57741,\n",
    "    'temperature': 1.55666,\n",
    "    'humidity':    1.00000,\n",
    "    'windy':       0.98523\n",
    "}\n",
    "\n",
    "# Tolerance for floating-point comparison\n",
    "EPSILON = 1e-4\n",
    "\n",
    "# Function to test\n",
    "def test_split_info(student_func):\n",
    "    passed_all = True\n",
    "    for attr, expected_value in ground_truth.items():\n",
    "        result = student_func(df, attr)\n",
    "        passed = np.isclose(result, expected_value, atol=EPSILON)\n",
    "        print(f\"Attribute: {attr:<12} | Expected: {expected_value:.5f} | Got: {result:.5f} | ✅ Pass: {passed}\")\n",
    "        if not passed:\n",
    "            passed_all = False\n",
    "    return passed_all\n",
    "\n",
    "\n",
    "# Run the test\n",
    "print(\"\\n=== SplitInfo Unit Test ===\")\n",
    "all_passed = test_split_info(get_split_info)\n",
    "print(\"🎯 All tests passed!\" if all_passed else \"❌ Some tests failed.\")"
   ]
  },
  {
   "cell_type": "code",
   "execution_count": 120,
   "metadata": {
    "id": "hIY2FpSrctcI"
   },
   "outputs": [],
   "source": [
    "def get_info_gain_ratio(df, attrib_name=None, class_attrib_name=None):\n",
    "    # Step 1: Get the information gain for the given attribute\n",
    "    info_gain = get_info_gain(df, attrib_name=attrib_name, class_attrib_name=class_attrib_name)\n",
    "\n",
    "    # Step 2: Get the split information (i.e., entropy of the attribute)\n",
    "    split_info = get_split_info(df, attrib_name=attrib_name)\n",
    "\n",
    "    # Step 3: [TO DO] Compute Information Gain Ratio (IGR)\n",
    "    # Hint: IGR = IG / SplitInfo, be careful with division-by-zero if needed\n",
    "    info_gain_ratio = info_gain/split_info if split_info != 0 else 0.0  # ← Replace this with the correct computation\n",
    "\n",
    "    return info_gain_ratio\n"
   ]
  },
  {
   "cell_type": "code",
   "execution_count": 121,
   "metadata": {
    "id": "7JDrtHNQd6Cm"
   },
   "outputs": [
    {
     "name": "stdout",
     "output_type": "stream",
     "text": [
      "\n",
      "=== Info Gain Ratio Test ===\n",
      "Attribute: outlook      | Expected: 0.15643 | Got: 0.15643 | ✅ Pass: True\n",
      "Attribute: temperature  | Expected: 0.01877 | Got: 0.01877 | ✅ Pass: True\n",
      "Attribute: humidity     | Expected: 0.15184 | Got: 0.15184 | ✅ Pass: True\n",
      "Attribute: windy        | Expected: 0.04885 | Got: 0.04885 | ✅ Pass: True\n",
      "🎯 All tests passed!\n"
     ]
    },
    {
     "data": {
      "text/plain": [
       "True"
      ]
     },
     "execution_count": 121,
     "metadata": {},
     "output_type": "execute_result"
    }
   ],
   "source": [
    "# Ground truth Information Gain Ratio values from Wikipedia\n",
    "ground_truth_igr = {\n",
    "    'outlook':     0.15643,\n",
    "    'temperature': 0.01877,\n",
    "    'humidity':    0.15184,\n",
    "    'windy':       0.04885\n",
    "}\n",
    "\n",
    "# Tolerance for floating-point comparison\n",
    "EPSILON = 1e-4\n",
    "\n",
    "# Test function\n",
    "def test_info_gain_ratio(student_func):\n",
    "    print(\"\\n=== Info Gain Ratio Test ===\")\n",
    "    all_passed = True\n",
    "    for attr, expected_value in ground_truth_igr.items():\n",
    "        result = student_func(df, attrib_name=attr, class_attrib_name=\"play\")\n",
    "        passed = np.isclose(result, expected_value, atol=EPSILON)\n",
    "        print(f\"Attribute: {attr:<12} | Expected: {expected_value:.5f} | Got: {result:.5f} | ✅ Pass: {passed}\")\n",
    "        if not passed:\n",
    "            all_passed = False\n",
    "    if all_passed:\n",
    "        print(\"🎯 All tests passed!\")\n",
    "    else:\n",
    "        print(\"❌ Some tests failed.\")\n",
    "    return all_passed\n",
    "\n",
    "# Run the test on student function\n",
    "test_info_gain_ratio(get_info_gain_ratio)\n"
   ]
  },
  {
   "cell_type": "markdown",
   "metadata": {
    "id": "HNUa6nDclQWL"
   },
   "source": [
    "### **Question:** Based on the Information Gain Ratio (IGR) values for each attribute, which attribute should be selected as the root node in the decision tree?  (5 points)\n",
    "**Answer:**\n",
    "Based on the Information Gain Ratio (IGR) values for each attribute, **outlook** should be selected as the root node in the decision tree"
   ]
  },
  {
   "cell_type": "markdown",
   "metadata": {
    "id": "Dnh0gw4k5SE9"
   },
   "source": [
    "### 1.2(d) : Gini Index $(\\mathrm{I_G})$ (5 points)\n",
    "Gini Index of an attribute is a measure of how often a randomly chosen element from the splitted dataset would be incorrectly labelled if it was randomly labeled according to the distribution of labels in the splitted dataset. Assume that a sample of the dataset belonging to class $k$ has probability $p_k$ of being randomly chosen. Gini Index of a categorical distribution $\\mathrm{\\mathbf{p}}=(p_1,p_2,\\ldots,p_K)^\\top$, denoted as $\\operatorname{I}_{G}(\\mathbf{p})$, can be computed by summing the probability $p_{k}$ times the probability $(1-p_{k})$ of a mistake in categorizing that item.\n",
    "$$\\operatorname{I}_{G}(\\mathbf{p})=\\sum _{k=1}^{K}p_{k}(1-p_{k})=1-\\sum _{k=1}^{K}p_{k}^{2}$$\n",
    "In layman terms, Gini Index is a measure of impurity used while creating a DT. An attribute with the low Gini Index should be preferred as compared to the one with high Gini Index for a decision node. When source dataset is splitted into multiple subsets based on an attribute's values, there will be a categorical distribution of class labels in each subset. Therefore, Gini Index of the attribute will be weighted sum of Gini Indices of all subsets. Following is the formal definition of Gini Index of $x_j$ attribute:\n",
    "$$\\operatorname{I}_{G}(\\mathbf{p}, x_j)=\\sum_{v \\in vals(x_j)} \\Pr(x_j=v) \\times \\operatorname{I}_{G}(\\mathbf{p}\\mid x_j=v),$$\n",
    "where $\\operatorname{I}_{G}(\\mathbf{p}\\mid x_j=v) = 1 - \\sum_{k=1}^{K} \\left(\\Pr(k\\mid x_j=v)\\right)^2$.  \n",
    "$\\operatorname{I}_{G}(\\mathbf{p}, x_j)$ is computed for each attribute at decision node and the one with smallest value is selected for the corresponding decision node."
   ]
  },
  {
   "cell_type": "code",
   "execution_count": 122,
   "metadata": {
    "id": "VgHzCvUT8LCh"
   },
   "outputs": [],
   "source": [
    "def get_gini_index(df, attrib_name=None, class_attrib_name=None):\n",
    "    # Step 1: Get unique values of attribute and their probabilities\n",
    "    attrib_unique_values, attrib_probs = get_attrib_distribution(df, attrib_name)\n",
    "\n",
    "    gini_index = 0  # Gini(p, x_j)\n",
    "    for v_i, v in enumerate(attrib_unique_values):\n",
    "        # Step 2: Filter samples where x_j = v\n",
    "        df_xj_v = get_conditional_data(df, [(attrib_name, v)])\n",
    "\n",
    "        # Step 3: Get class distribution for this subset\n",
    "        class_labels_xj_v, class_probs_xj_v = get_class_distribution(df_xj_v, class_attrib_name)\n",
    "\n",
    "        # Step 4: TODO Compute Gini for Pr(k | x_j = v)\n",
    "        # Hint: Use 1 - sum(p_k^2) for Gini impurity of class_probs_xj_v\n",
    "        IG_p_xj_v = 1-sum(class_probs_xj_v**2)  # ← Replace this with Gini(p | x_j = v)\n",
    "\n",
    "        # Step 5: Update weighted Gini index\n",
    "        gini_index += attrib_probs[v_i] * IG_p_xj_v\n",
    "\n",
    "    return gini_index\n"
   ]
  },
  {
   "cell_type": "code",
   "execution_count": 123,
   "metadata": {
    "id": "pfB9xy9qrKBk"
   },
   "outputs": [
    {
     "name": "stdout",
     "output_type": "stream",
     "text": [
      "\n",
      "=== Gini Index Test ===\n",
      "Attribute: outlook      | Expected: 0.3429 | Got: 0.3429 | ✅ Pass: True\n",
      "Attribute: temperature  | Expected: 0.4405 | Got: 0.4405 | ✅ Pass: True\n",
      "Attribute: humidity     | Expected: 0.3674 | Got: 0.3673 | ✅ Pass: True\n",
      "Attribute: windy        | Expected: 0.4286 | Got: 0.4286 | ✅ Pass: True\n",
      "🎯 All tests passed!\n"
     ]
    },
    {
     "data": {
      "text/plain": [
       "True"
      ]
     },
     "execution_count": 123,
     "metadata": {},
     "output_type": "execute_result"
    }
   ],
   "source": [
    "# Ground truth Gini Index values from Wikipedia dataset\n",
    "ground_truth_gini = {\n",
    "    'outlook':     0.34286,\n",
    "    'temperature': 0.44048,\n",
    "    'humidity':    0.36735,\n",
    "    'windy':       0.42857\n",
    "}\n",
    "\n",
    "EPSILON = 1e-4\n",
    "\n",
    "# Test function\n",
    "def test_gini_index(student_func):\n",
    "    print(\"\\n=== Gini Index Test ===\")\n",
    "    all_passed = True\n",
    "    for attr, expected in ground_truth_gini.items():\n",
    "        result = student_func(df, attrib_name=attr, class_attrib_name=\"play\")\n",
    "        passed = np.isclose(result, expected, atol=EPSILON)\n",
    "        print(f\"Attribute: {attr:<12} | Expected: {expected:.4f} | Got: {result:.4f} | ✅ Pass: {passed}\")\n",
    "        if not passed:\n",
    "            all_passed = False\n",
    "    print(\"🎯 All tests passed!\" if all_passed else \"❌ Some tests failed.\")\n",
    "    return all_passed\n",
    "\n",
    "# Run the test\n",
    "test_gini_index(get_gini_index)\n"
   ]
  },
  {
   "cell_type": "markdown",
   "metadata": {
    "id": "N-JbvO_Yrer9"
   },
   "source": [
    "### **Question:** According to `Gini Index` values of each attribute, which attribute should be selected for root node?  (5 points)\n",
    "**Answer:**\n",
    "**outlook**"
   ]
  },
  {
   "cell_type": "markdown",
   "metadata": {
    "id": "70IS09IMP46-"
   },
   "source": [
    "## 1.3 Construct a DecisionTree Classifier using Gini Index (15 points)"
   ]
  },
  {
   "cell_type": "code",
   "execution_count": 124,
   "metadata": {
    "id": "dzyadnadQqSJ"
   },
   "outputs": [],
   "source": [
    "def get_asm_vals(df, attrib_names=[],  class_attrib_name=None, asm_type=None):\n",
    "    # input: dataframe , a list of attribute names , type of ASM e.g. 'gini'\n",
    "    # output: a list of attribute names and a list of ASM values corresponding to each attribute in given dataframe\n",
    "    asm_vals = []\n",
    "    for attrib_name in attrib_names:\n",
    "        if asm_type=='info_gain':\n",
    "            asm_vals.append( get_info_gain(df, attrib_name=attrib_name, class_attrib_name=class_attrib_name) )\n",
    "        elif asm_type=='info_gain_ratio':\n",
    "            asm_vals.append( get_info_gain_ratio(df, attrib_name=attrib_name, class_attrib_name=class_attrib_name) )\n",
    "        elif asm_type=='gini':\n",
    "            asm_vals.append( get_gini_index(df, attrib_name=attrib_name, class_attrib_name=class_attrib_name) )\n",
    "        else:\n",
    "            raise ValueError(f'The ASM type {asm_type} is no supported.')\n",
    "\n",
    "    return attrib_names, asm_vals\n"
   ]
  },
  {
   "cell_type": "markdown",
   "metadata": {
    "id": "8jGsofThdijJ"
   },
   "source": [
    "first of all, we take entire dataset at root node and find 'IGR' of each attribute"
   ]
  },
  {
   "cell_type": "code",
   "execution_count": 125,
   "metadata": {
    "id": "Y0TJTFHtdimK"
   },
   "outputs": [
    {
     "data": {
      "text/html": [
       "<div>\n",
       "<style scoped>\n",
       "    .dataframe tbody tr th:only-of-type {\n",
       "        vertical-align: middle;\n",
       "    }\n",
       "\n",
       "    .dataframe tbody tr th {\n",
       "        vertical-align: top;\n",
       "    }\n",
       "\n",
       "    .dataframe thead th {\n",
       "        text-align: right;\n",
       "    }\n",
       "</style>\n",
       "<table border=\"1\" class=\"dataframe\">\n",
       "  <thead>\n",
       "    <tr style=\"text-align: right;\">\n",
       "      <th></th>\n",
       "      <th>outlook</th>\n",
       "      <th>temperature</th>\n",
       "      <th>humidity</th>\n",
       "      <th>windy</th>\n",
       "      <th>play</th>\n",
       "    </tr>\n",
       "  </thead>\n",
       "  <tbody>\n",
       "    <tr>\n",
       "      <th>0</th>\n",
       "      <td>sunny</td>\n",
       "      <td>hot</td>\n",
       "      <td>high</td>\n",
       "      <td>FALSE</td>\n",
       "      <td>no</td>\n",
       "    </tr>\n",
       "    <tr>\n",
       "      <th>1</th>\n",
       "      <td>sunny</td>\n",
       "      <td>hot</td>\n",
       "      <td>high</td>\n",
       "      <td>TRUE</td>\n",
       "      <td>no</td>\n",
       "    </tr>\n",
       "    <tr>\n",
       "      <th>2</th>\n",
       "      <td>overcast</td>\n",
       "      <td>hot</td>\n",
       "      <td>high</td>\n",
       "      <td>FALSE</td>\n",
       "      <td>yes</td>\n",
       "    </tr>\n",
       "    <tr>\n",
       "      <th>3</th>\n",
       "      <td>rainy</td>\n",
       "      <td>mild</td>\n",
       "      <td>high</td>\n",
       "      <td>FALSE</td>\n",
       "      <td>yes</td>\n",
       "    </tr>\n",
       "    <tr>\n",
       "      <th>4</th>\n",
       "      <td>rainy</td>\n",
       "      <td>cool</td>\n",
       "      <td>normal</td>\n",
       "      <td>FALSE</td>\n",
       "      <td>yes</td>\n",
       "    </tr>\n",
       "    <tr>\n",
       "      <th>5</th>\n",
       "      <td>rainy</td>\n",
       "      <td>cool</td>\n",
       "      <td>normal</td>\n",
       "      <td>TRUE</td>\n",
       "      <td>no</td>\n",
       "    </tr>\n",
       "    <tr>\n",
       "      <th>6</th>\n",
       "      <td>overcast</td>\n",
       "      <td>cool</td>\n",
       "      <td>normal</td>\n",
       "      <td>TRUE</td>\n",
       "      <td>yes</td>\n",
       "    </tr>\n",
       "    <tr>\n",
       "      <th>7</th>\n",
       "      <td>sunny</td>\n",
       "      <td>mild</td>\n",
       "      <td>high</td>\n",
       "      <td>FALSE</td>\n",
       "      <td>no</td>\n",
       "    </tr>\n",
       "    <tr>\n",
       "      <th>8</th>\n",
       "      <td>sunny</td>\n",
       "      <td>cool</td>\n",
       "      <td>normal</td>\n",
       "      <td>FALSE</td>\n",
       "      <td>yes</td>\n",
       "    </tr>\n",
       "    <tr>\n",
       "      <th>9</th>\n",
       "      <td>rainy</td>\n",
       "      <td>mild</td>\n",
       "      <td>normal</td>\n",
       "      <td>FALSE</td>\n",
       "      <td>yes</td>\n",
       "    </tr>\n",
       "    <tr>\n",
       "      <th>10</th>\n",
       "      <td>sunny</td>\n",
       "      <td>mild</td>\n",
       "      <td>normal</td>\n",
       "      <td>TRUE</td>\n",
       "      <td>yes</td>\n",
       "    </tr>\n",
       "    <tr>\n",
       "      <th>11</th>\n",
       "      <td>overcast</td>\n",
       "      <td>mild</td>\n",
       "      <td>high</td>\n",
       "      <td>TRUE</td>\n",
       "      <td>yes</td>\n",
       "    </tr>\n",
       "    <tr>\n",
       "      <th>12</th>\n",
       "      <td>overcast</td>\n",
       "      <td>hot</td>\n",
       "      <td>normal</td>\n",
       "      <td>FALSE</td>\n",
       "      <td>yes</td>\n",
       "    </tr>\n",
       "    <tr>\n",
       "      <th>13</th>\n",
       "      <td>rainy</td>\n",
       "      <td>mild</td>\n",
       "      <td>high</td>\n",
       "      <td>TRUE</td>\n",
       "      <td>no</td>\n",
       "    </tr>\n",
       "  </tbody>\n",
       "</table>\n",
       "</div>"
      ],
      "text/plain": [
       "     outlook temperature humidity  windy play\n",
       "0      sunny         hot     high  FALSE   no\n",
       "1      sunny         hot     high   TRUE   no\n",
       "2   overcast         hot     high  FALSE  yes\n",
       "3      rainy        mild     high  FALSE  yes\n",
       "4      rainy        cool   normal  FALSE  yes\n",
       "5      rainy        cool   normal   TRUE   no\n",
       "6   overcast        cool   normal   TRUE  yes\n",
       "7      sunny        mild     high  FALSE   no\n",
       "8      sunny        cool   normal  FALSE  yes\n",
       "9      rainy        mild   normal  FALSE  yes\n",
       "10     sunny        mild   normal   TRUE  yes\n",
       "11  overcast        mild     high   TRUE  yes\n",
       "12  overcast         hot   normal  FALSE  yes\n",
       "13     rainy        mild     high   TRUE   no"
      ]
     },
     "execution_count": 125,
     "metadata": {},
     "output_type": "execute_result"
    }
   ],
   "source": [
    "# complete dataset\n",
    "df"
   ]
  },
  {
   "cell_type": "code",
   "execution_count": 126,
   "metadata": {
    "id": "qEUcZSG4dir1"
   },
   "outputs": [],
   "source": [
    "attrib_names, asm_vals = get_asm_vals(df, attrib_names=['outlook', 'temperature', 'humidity', 'windy'],  class_attrib_name='play', asm_type='info_gain_ratio')"
   ]
  },
  {
   "cell_type": "code",
   "execution_count": 127,
   "metadata": {
    "id": "wPq_JXKLdivM"
   },
   "outputs": [
    {
     "name": "stdout",
     "output_type": "stream",
     "text": [
      "ASM = Information Gain Ratio (IGR)\n",
      "ASM Value of 'outlook' = 0.156\n",
      "ASM Value of 'temperature' = 0.019\n",
      "ASM Value of 'humidity' = 0.152\n",
      "ASM Value of 'windy' = 0.049\n"
     ]
    }
   ],
   "source": [
    "print('ASM = Information Gain Ratio (IGR)')\n",
    "for i,attrib_name in enumerate(attrib_names):\n",
    "    print(f\"ASM Value of '{attrib_name}' = {round(asm_vals[i],3)}\")\n"
   ]
  },
  {
   "cell_type": "code",
   "execution_count": 128,
   "metadata": {
    "id": "aCHgOaSTrKH4"
   },
   "outputs": [],
   "source": [
    "# 'outlook' attribute has highest 'IGR' value\n",
    "# sine we have figured out that 'outlook' should be at root node according to 'IGR',\n",
    "# therefore, we will split data according to the values of 'outlook' attribute.\n",
    "\n",
    "# we will partition the original dataset according to the values of root attribute.\n",
    "df_outlook_sunny = get_conditional_data(df, [('outlook','sunny')])\n",
    "df_outlook_rainy = get_conditional_data(df, [('outlook','rainy')])\n",
    "df_outlook_overcast = get_conditional_data(df, [('outlook','overcast')])"
   ]
  },
  {
   "cell_type": "code",
   "execution_count": 129,
   "metadata": {
    "id": "KiPKyinArKKm"
   },
   "outputs": [
    {
     "data": {
      "text/html": [
       "<div>\n",
       "<style scoped>\n",
       "    .dataframe tbody tr th:only-of-type {\n",
       "        vertical-align: middle;\n",
       "    }\n",
       "\n",
       "    .dataframe tbody tr th {\n",
       "        vertical-align: top;\n",
       "    }\n",
       "\n",
       "    .dataframe thead th {\n",
       "        text-align: right;\n",
       "    }\n",
       "</style>\n",
       "<table border=\"1\" class=\"dataframe\">\n",
       "  <thead>\n",
       "    <tr style=\"text-align: right;\">\n",
       "      <th></th>\n",
       "      <th>outlook</th>\n",
       "      <th>temperature</th>\n",
       "      <th>humidity</th>\n",
       "      <th>windy</th>\n",
       "      <th>play</th>\n",
       "    </tr>\n",
       "  </thead>\n",
       "  <tbody>\n",
       "    <tr>\n",
       "      <th>0</th>\n",
       "      <td>sunny</td>\n",
       "      <td>hot</td>\n",
       "      <td>high</td>\n",
       "      <td>FALSE</td>\n",
       "      <td>no</td>\n",
       "    </tr>\n",
       "    <tr>\n",
       "      <th>1</th>\n",
       "      <td>sunny</td>\n",
       "      <td>hot</td>\n",
       "      <td>high</td>\n",
       "      <td>TRUE</td>\n",
       "      <td>no</td>\n",
       "    </tr>\n",
       "    <tr>\n",
       "      <th>7</th>\n",
       "      <td>sunny</td>\n",
       "      <td>mild</td>\n",
       "      <td>high</td>\n",
       "      <td>FALSE</td>\n",
       "      <td>no</td>\n",
       "    </tr>\n",
       "    <tr>\n",
       "      <th>8</th>\n",
       "      <td>sunny</td>\n",
       "      <td>cool</td>\n",
       "      <td>normal</td>\n",
       "      <td>FALSE</td>\n",
       "      <td>yes</td>\n",
       "    </tr>\n",
       "    <tr>\n",
       "      <th>10</th>\n",
       "      <td>sunny</td>\n",
       "      <td>mild</td>\n",
       "      <td>normal</td>\n",
       "      <td>TRUE</td>\n",
       "      <td>yes</td>\n",
       "    </tr>\n",
       "  </tbody>\n",
       "</table>\n",
       "</div>"
      ],
      "text/plain": [
       "   outlook temperature humidity  windy play\n",
       "0    sunny         hot     high  FALSE   no\n",
       "1    sunny         hot     high   TRUE   no\n",
       "7    sunny        mild     high  FALSE   no\n",
       "8    sunny        cool   normal  FALSE  yes\n",
       "10   sunny        mild   normal   TRUE  yes"
      ]
     },
     "execution_count": 129,
     "metadata": {},
     "output_type": "execute_result"
    }
   ],
   "source": [
    "df_outlook_sunny"
   ]
  },
  {
   "cell_type": "code",
   "execution_count": 130,
   "metadata": {
    "id": "qKezDC6ZYJVH"
   },
   "outputs": [
    {
     "data": {
      "text/html": [
       "<div>\n",
       "<style scoped>\n",
       "    .dataframe tbody tr th:only-of-type {\n",
       "        vertical-align: middle;\n",
       "    }\n",
       "\n",
       "    .dataframe tbody tr th {\n",
       "        vertical-align: top;\n",
       "    }\n",
       "\n",
       "    .dataframe thead th {\n",
       "        text-align: right;\n",
       "    }\n",
       "</style>\n",
       "<table border=\"1\" class=\"dataframe\">\n",
       "  <thead>\n",
       "    <tr style=\"text-align: right;\">\n",
       "      <th></th>\n",
       "      <th>outlook</th>\n",
       "      <th>temperature</th>\n",
       "      <th>humidity</th>\n",
       "      <th>windy</th>\n",
       "      <th>play</th>\n",
       "    </tr>\n",
       "  </thead>\n",
       "  <tbody>\n",
       "    <tr>\n",
       "      <th>3</th>\n",
       "      <td>rainy</td>\n",
       "      <td>mild</td>\n",
       "      <td>high</td>\n",
       "      <td>FALSE</td>\n",
       "      <td>yes</td>\n",
       "    </tr>\n",
       "    <tr>\n",
       "      <th>4</th>\n",
       "      <td>rainy</td>\n",
       "      <td>cool</td>\n",
       "      <td>normal</td>\n",
       "      <td>FALSE</td>\n",
       "      <td>yes</td>\n",
       "    </tr>\n",
       "    <tr>\n",
       "      <th>5</th>\n",
       "      <td>rainy</td>\n",
       "      <td>cool</td>\n",
       "      <td>normal</td>\n",
       "      <td>TRUE</td>\n",
       "      <td>no</td>\n",
       "    </tr>\n",
       "    <tr>\n",
       "      <th>9</th>\n",
       "      <td>rainy</td>\n",
       "      <td>mild</td>\n",
       "      <td>normal</td>\n",
       "      <td>FALSE</td>\n",
       "      <td>yes</td>\n",
       "    </tr>\n",
       "    <tr>\n",
       "      <th>13</th>\n",
       "      <td>rainy</td>\n",
       "      <td>mild</td>\n",
       "      <td>high</td>\n",
       "      <td>TRUE</td>\n",
       "      <td>no</td>\n",
       "    </tr>\n",
       "  </tbody>\n",
       "</table>\n",
       "</div>"
      ],
      "text/plain": [
       "   outlook temperature humidity  windy play\n",
       "3    rainy        mild     high  FALSE  yes\n",
       "4    rainy        cool   normal  FALSE  yes\n",
       "5    rainy        cool   normal   TRUE   no\n",
       "9    rainy        mild   normal  FALSE  yes\n",
       "13   rainy        mild     high   TRUE   no"
      ]
     },
     "execution_count": 130,
     "metadata": {},
     "output_type": "execute_result"
    }
   ],
   "source": [
    "df_outlook_rainy"
   ]
  },
  {
   "cell_type": "code",
   "execution_count": 131,
   "metadata": {
    "id": "BZDJsAVzXdW6"
   },
   "outputs": [
    {
     "data": {
      "text/html": [
       "<div>\n",
       "<style scoped>\n",
       "    .dataframe tbody tr th:only-of-type {\n",
       "        vertical-align: middle;\n",
       "    }\n",
       "\n",
       "    .dataframe tbody tr th {\n",
       "        vertical-align: top;\n",
       "    }\n",
       "\n",
       "    .dataframe thead th {\n",
       "        text-align: right;\n",
       "    }\n",
       "</style>\n",
       "<table border=\"1\" class=\"dataframe\">\n",
       "  <thead>\n",
       "    <tr style=\"text-align: right;\">\n",
       "      <th></th>\n",
       "      <th>outlook</th>\n",
       "      <th>temperature</th>\n",
       "      <th>humidity</th>\n",
       "      <th>windy</th>\n",
       "      <th>play</th>\n",
       "    </tr>\n",
       "  </thead>\n",
       "  <tbody>\n",
       "    <tr>\n",
       "      <th>2</th>\n",
       "      <td>overcast</td>\n",
       "      <td>hot</td>\n",
       "      <td>high</td>\n",
       "      <td>FALSE</td>\n",
       "      <td>yes</td>\n",
       "    </tr>\n",
       "    <tr>\n",
       "      <th>6</th>\n",
       "      <td>overcast</td>\n",
       "      <td>cool</td>\n",
       "      <td>normal</td>\n",
       "      <td>TRUE</td>\n",
       "      <td>yes</td>\n",
       "    </tr>\n",
       "    <tr>\n",
       "      <th>11</th>\n",
       "      <td>overcast</td>\n",
       "      <td>mild</td>\n",
       "      <td>high</td>\n",
       "      <td>TRUE</td>\n",
       "      <td>yes</td>\n",
       "    </tr>\n",
       "    <tr>\n",
       "      <th>12</th>\n",
       "      <td>overcast</td>\n",
       "      <td>hot</td>\n",
       "      <td>normal</td>\n",
       "      <td>FALSE</td>\n",
       "      <td>yes</td>\n",
       "    </tr>\n",
       "  </tbody>\n",
       "</table>\n",
       "</div>"
      ],
      "text/plain": [
       "     outlook temperature humidity  windy play\n",
       "2   overcast         hot     high  FALSE  yes\n",
       "6   overcast        cool   normal   TRUE  yes\n",
       "11  overcast        mild     high   TRUE  yes\n",
       "12  overcast         hot   normal  FALSE  yes"
      ]
     },
     "execution_count": 131,
     "metadata": {},
     "output_type": "execute_result"
    }
   ],
   "source": [
    "df_outlook_overcast"
   ]
  },
  {
   "cell_type": "code",
   "execution_count": 132,
   "metadata": {
    "id": "pe0Zl39VVmEy"
   },
   "outputs": [],
   "source": [
    "# now, we need to work on each branch of 'outlook'\n",
    "# let's take 'sunny' branch and see what should be its child node according to 'IGR' of remaining attributes\n",
    "\n",
    "attrib_names, asm_vals = get_asm_vals(df_outlook_sunny, attrib_names=['temperature', 'humidity', 'windy'],  class_attrib_name='play', asm_type='info_gain_ratio')"
   ]
  },
  {
   "cell_type": "code",
   "execution_count": 133,
   "metadata": {
    "id": "QssWd_zDYsEh"
   },
   "outputs": [
    {
     "name": "stdout",
     "output_type": "stream",
     "text": [
      "ASM = Information Gain Ratio (IGR)\n",
      "ASM Value of 'temperature' = 0.375\n",
      "ASM Value of 'humidity' = 1.0\n",
      "ASM Value of 'windy' = 0.021\n"
     ]
    }
   ],
   "source": [
    "print('ASM = Information Gain Ratio (IGR)')\n",
    "for i,attrib_name in enumerate(attrib_names):\n",
    "    print(f\"ASM Value of '{attrib_name}' = {round(asm_vals[i],3)}\")\n"
   ]
  },
  {
   "cell_type": "code",
   "execution_count": 134,
   "metadata": {
    "id": "j5Dk2zzcZjOX"
   },
   "outputs": [],
   "source": [
    "# we can conclude that child of 'sunny' branch should be 'humidity'.\n",
    "# now, we move to 'rainy' branch of 'outlook' attribute\n",
    "\n",
    "attrib_names, asm_vals = get_asm_vals(df_outlook_rainy, attrib_names=['temperature', 'humidity', 'windy'],  class_attrib_name='play', asm_type='info_gain_ratio')"
   ]
  },
  {
   "cell_type": "code",
   "execution_count": 135,
   "metadata": {
    "id": "119Kb0QeZ9wc"
   },
   "outputs": [
    {
     "name": "stdout",
     "output_type": "stream",
     "text": [
      "ASM = Information Gain Ratio (IGR)\n",
      "ASM Value of 'temperature' = 0.021\n",
      "ASM Value of 'humidity' = 0.021\n",
      "ASM Value of 'windy' = 1.0\n"
     ]
    }
   ],
   "source": [
    "print('ASM = Information Gain Ratio (IGR)')\n",
    "for i,attrib_name in enumerate(attrib_names):\n",
    "    print(f\"ASM Value of '{attrib_name}' = {round(asm_vals[i],3)}\")\n"
   ]
  },
  {
   "cell_type": "code",
   "execution_count": 136,
   "metadata": {
    "id": "oaGewKsIag04"
   },
   "outputs": [],
   "source": [
    "# IGR values show that child of 'rainy' branch should be 'windy'.\n",
    "# now, we can move to 'overcast' branch of 'outlook' attribute\n",
    "\n",
    "attrib_names, asm_vals = get_asm_vals(df_outlook_overcast, attrib_names=['temperature', 'humidity', 'windy'],  class_attrib_name='play', asm_type='info_gain_ratio')"
   ]
  },
  {
   "cell_type": "code",
   "execution_count": 137,
   "metadata": {
    "id": "FpsvhSpxa74S"
   },
   "outputs": [
    {
     "name": "stdout",
     "output_type": "stream",
     "text": [
      "ASM = Information Gain Ratio (IGR)\n",
      "ASM Value of 'temperature' = -0.0\n",
      "ASM Value of 'humidity' = -0.0\n",
      "ASM Value of 'windy' = -0.0\n"
     ]
    }
   ],
   "source": [
    "print('ASM = Information Gain Ratio (IGR)')\n",
    "for i,attrib_name in enumerate(attrib_names):\n",
    "    print(f\"ASM Value of '{attrib_name}' = {round(asm_vals[i],3)}\")\n"
   ]
  },
  {
   "cell_type": "markdown",
   "metadata": {
    "id": "FWu01MNTi8a5"
   },
   "source": [
    "All IGR values are zero. it means that this branch has a pure child node and we can declare it as 'leaf' node. tree does not grow after 'leaf' node."
   ]
  },
  {
   "cell_type": "markdown",
   "metadata": {
    "id": "qP-0xnsvi8a5"
   },
   "source": [
    "<br><br>\n",
    "**TO DO :** Draw the decision tree on on page, and either photo it or scan it for submission.\n",
    "<br><br>"
   ]
  },
  {
   "cell_type": "markdown",
   "metadata": {},
   "source": [
    "### Decision Tree\n",
    "![Decision Tree](../src/data/dt.jpg)"
   ]
  },
  {
   "cell_type": "markdown",
   "metadata": {
    "id": "ogpmBRr1jDNK"
   },
   "source": [
    "\n",
    "# Imbalanced classification (40 points)\n",
    "\n",
    "Class imbalance is the norm in real-world classification: class sizes are unequal, which makes learning and evaluation harder. In disease diagnosis, for example, most cases are healthy while only a small fraction are positive. Recovering those rare positive cases is critical — missing them can delay treatment — yet misclassifying healthy people as sick also carries cost, anxiety, and unnecessary procedures.\n",
    "\n",
    "In this section, we tackle imbalanced classification with algorithms tailored to unbalanced label data."
   ]
  },
  {
   "cell_type": "code",
   "execution_count": 138,
   "metadata": {
    "id": "A5AoneTBj-zj"
   },
   "outputs": [],
   "source": [
    "from sklearn import datasets                          # to load datasets provided by sklearn\n",
    "from sklearn.model_selection import train_test_split  # import train_test_split function\n",
    "from sklearn import metrics                           # import scikit-learn metrics module for accuracy calculation\n",
    "\n",
    "import  pandas as pd                                  # to handle tabular-structured heterogeneous data, data processing, CSV file I/O (e.g. pd.read_csv)\n",
    "import numpy as np                                    # linear algebra and numerical computing"
   ]
  },
  {
   "cell_type": "markdown",
   "metadata": {
    "id": "KRw--9Suj_yj"
   },
   "source": [
    "## 2.1 Load the Dataset\n",
    "More information about `BreastCancer` dataset can be found [here](https://archive.ics.uci.edu/ml/datasets/Breast+Cancer+Wisconsin+(Diagnostic))."
   ]
  },
  {
   "cell_type": "code",
   "execution_count": 139,
   "metadata": {
    "id": "ryc32X9RkDV2"
   },
   "outputs": [
    {
     "data": {
      "text/html": [
       "<div>\n",
       "<style scoped>\n",
       "    .dataframe tbody tr th:only-of-type {\n",
       "        vertical-align: middle;\n",
       "    }\n",
       "\n",
       "    .dataframe tbody tr th {\n",
       "        vertical-align: top;\n",
       "    }\n",
       "\n",
       "    .dataframe thead th {\n",
       "        text-align: right;\n",
       "    }\n",
       "</style>\n",
       "<table border=\"1\" class=\"dataframe\">\n",
       "  <thead>\n",
       "    <tr style=\"text-align: right;\">\n",
       "      <th></th>\n",
       "      <th>mean radius</th>\n",
       "      <th>mean texture</th>\n",
       "      <th>mean perimeter</th>\n",
       "      <th>mean area</th>\n",
       "      <th>mean smoothness</th>\n",
       "      <th>mean compactness</th>\n",
       "      <th>mean concavity</th>\n",
       "      <th>mean concave points</th>\n",
       "      <th>mean symmetry</th>\n",
       "      <th>mean fractal dimension</th>\n",
       "      <th>...</th>\n",
       "      <th>worst texture</th>\n",
       "      <th>worst perimeter</th>\n",
       "      <th>worst area</th>\n",
       "      <th>worst smoothness</th>\n",
       "      <th>worst compactness</th>\n",
       "      <th>worst concavity</th>\n",
       "      <th>worst concave points</th>\n",
       "      <th>worst symmetry</th>\n",
       "      <th>worst fractal dimension</th>\n",
       "      <th>target</th>\n",
       "    </tr>\n",
       "  </thead>\n",
       "  <tbody>\n",
       "    <tr>\n",
       "      <th>0</th>\n",
       "      <td>9.567</td>\n",
       "      <td>15.91</td>\n",
       "      <td>60.21</td>\n",
       "      <td>279.6</td>\n",
       "      <td>0.08464</td>\n",
       "      <td>0.04087</td>\n",
       "      <td>0.01652</td>\n",
       "      <td>0.016670</td>\n",
       "      <td>0.1551</td>\n",
       "      <td>0.06403</td>\n",
       "      <td>...</td>\n",
       "      <td>19.16</td>\n",
       "      <td>65.74</td>\n",
       "      <td>335.9</td>\n",
       "      <td>0.1504</td>\n",
       "      <td>0.09515</td>\n",
       "      <td>0.07161</td>\n",
       "      <td>0.07222</td>\n",
       "      <td>0.2757</td>\n",
       "      <td>0.08178</td>\n",
       "      <td>0</td>\n",
       "    </tr>\n",
       "    <tr>\n",
       "      <th>1</th>\n",
       "      <td>13.140</td>\n",
       "      <td>20.74</td>\n",
       "      <td>85.98</td>\n",
       "      <td>536.9</td>\n",
       "      <td>0.08675</td>\n",
       "      <td>0.10890</td>\n",
       "      <td>0.10850</td>\n",
       "      <td>0.035100</td>\n",
       "      <td>0.1562</td>\n",
       "      <td>0.06020</td>\n",
       "      <td>...</td>\n",
       "      <td>25.46</td>\n",
       "      <td>100.90</td>\n",
       "      <td>689.1</td>\n",
       "      <td>0.1351</td>\n",
       "      <td>0.35490</td>\n",
       "      <td>0.45040</td>\n",
       "      <td>0.11810</td>\n",
       "      <td>0.2563</td>\n",
       "      <td>0.08174</td>\n",
       "      <td>0</td>\n",
       "    </tr>\n",
       "    <tr>\n",
       "      <th>2</th>\n",
       "      <td>9.397</td>\n",
       "      <td>21.68</td>\n",
       "      <td>59.75</td>\n",
       "      <td>268.8</td>\n",
       "      <td>0.07969</td>\n",
       "      <td>0.06053</td>\n",
       "      <td>0.03735</td>\n",
       "      <td>0.005128</td>\n",
       "      <td>0.1274</td>\n",
       "      <td>0.06724</td>\n",
       "      <td>...</td>\n",
       "      <td>27.99</td>\n",
       "      <td>66.61</td>\n",
       "      <td>301.0</td>\n",
       "      <td>0.1086</td>\n",
       "      <td>0.18870</td>\n",
       "      <td>0.18680</td>\n",
       "      <td>0.02564</td>\n",
       "      <td>0.2376</td>\n",
       "      <td>0.09206</td>\n",
       "      <td>0</td>\n",
       "    </tr>\n",
       "    <tr>\n",
       "      <th>3</th>\n",
       "      <td>11.430</td>\n",
       "      <td>15.39</td>\n",
       "      <td>73.06</td>\n",
       "      <td>399.8</td>\n",
       "      <td>0.09639</td>\n",
       "      <td>0.06889</td>\n",
       "      <td>0.03503</td>\n",
       "      <td>0.028750</td>\n",
       "      <td>0.1734</td>\n",
       "      <td>0.05865</td>\n",
       "      <td>...</td>\n",
       "      <td>22.02</td>\n",
       "      <td>79.93</td>\n",
       "      <td>462.0</td>\n",
       "      <td>0.1190</td>\n",
       "      <td>0.16480</td>\n",
       "      <td>0.13990</td>\n",
       "      <td>0.08476</td>\n",
       "      <td>0.2676</td>\n",
       "      <td>0.06765</td>\n",
       "      <td>0</td>\n",
       "    </tr>\n",
       "    <tr>\n",
       "      <th>4</th>\n",
       "      <td>12.250</td>\n",
       "      <td>17.94</td>\n",
       "      <td>78.27</td>\n",
       "      <td>460.3</td>\n",
       "      <td>0.08654</td>\n",
       "      <td>0.06679</td>\n",
       "      <td>0.03885</td>\n",
       "      <td>0.023310</td>\n",
       "      <td>0.1970</td>\n",
       "      <td>0.06228</td>\n",
       "      <td>...</td>\n",
       "      <td>25.22</td>\n",
       "      <td>86.60</td>\n",
       "      <td>564.2</td>\n",
       "      <td>0.1217</td>\n",
       "      <td>0.17880</td>\n",
       "      <td>0.19430</td>\n",
       "      <td>0.08211</td>\n",
       "      <td>0.3113</td>\n",
       "      <td>0.08132</td>\n",
       "      <td>0</td>\n",
       "    </tr>\n",
       "    <tr>\n",
       "      <th>...</th>\n",
       "      <td>...</td>\n",
       "      <td>...</td>\n",
       "      <td>...</td>\n",
       "      <td>...</td>\n",
       "      <td>...</td>\n",
       "      <td>...</td>\n",
       "      <td>...</td>\n",
       "      <td>...</td>\n",
       "      <td>...</td>\n",
       "      <td>...</td>\n",
       "      <td>...</td>\n",
       "      <td>...</td>\n",
       "      <td>...</td>\n",
       "      <td>...</td>\n",
       "      <td>...</td>\n",
       "      <td>...</td>\n",
       "      <td>...</td>\n",
       "      <td>...</td>\n",
       "      <td>...</td>\n",
       "      <td>...</td>\n",
       "      <td>...</td>\n",
       "    </tr>\n",
       "    <tr>\n",
       "      <th>392</th>\n",
       "      <td>13.150</td>\n",
       "      <td>15.34</td>\n",
       "      <td>85.31</td>\n",
       "      <td>538.9</td>\n",
       "      <td>0.09384</td>\n",
       "      <td>0.08498</td>\n",
       "      <td>0.09293</td>\n",
       "      <td>0.034830</td>\n",
       "      <td>0.1822</td>\n",
       "      <td>0.06207</td>\n",
       "      <td>...</td>\n",
       "      <td>20.50</td>\n",
       "      <td>97.67</td>\n",
       "      <td>677.3</td>\n",
       "      <td>0.1478</td>\n",
       "      <td>0.22560</td>\n",
       "      <td>0.30090</td>\n",
       "      <td>0.09722</td>\n",
       "      <td>0.3849</td>\n",
       "      <td>0.08633</td>\n",
       "      <td>0</td>\n",
       "    </tr>\n",
       "    <tr>\n",
       "      <th>393</th>\n",
       "      <td>10.180</td>\n",
       "      <td>17.53</td>\n",
       "      <td>65.12</td>\n",
       "      <td>313.1</td>\n",
       "      <td>0.10610</td>\n",
       "      <td>0.08502</td>\n",
       "      <td>0.01768</td>\n",
       "      <td>0.019150</td>\n",
       "      <td>0.1910</td>\n",
       "      <td>0.06908</td>\n",
       "      <td>...</td>\n",
       "      <td>22.84</td>\n",
       "      <td>71.94</td>\n",
       "      <td>375.6</td>\n",
       "      <td>0.1406</td>\n",
       "      <td>0.14400</td>\n",
       "      <td>0.06572</td>\n",
       "      <td>0.05575</td>\n",
       "      <td>0.3055</td>\n",
       "      <td>0.08797</td>\n",
       "      <td>0</td>\n",
       "    </tr>\n",
       "    <tr>\n",
       "      <th>394</th>\n",
       "      <td>11.630</td>\n",
       "      <td>29.29</td>\n",
       "      <td>74.87</td>\n",
       "      <td>415.1</td>\n",
       "      <td>0.09357</td>\n",
       "      <td>0.08574</td>\n",
       "      <td>0.07160</td>\n",
       "      <td>0.020170</td>\n",
       "      <td>0.1799</td>\n",
       "      <td>0.06166</td>\n",
       "      <td>...</td>\n",
       "      <td>38.81</td>\n",
       "      <td>86.04</td>\n",
       "      <td>527.8</td>\n",
       "      <td>0.1406</td>\n",
       "      <td>0.20310</td>\n",
       "      <td>0.29230</td>\n",
       "      <td>0.06835</td>\n",
       "      <td>0.2884</td>\n",
       "      <td>0.07220</td>\n",
       "      <td>0</td>\n",
       "    </tr>\n",
       "    <tr>\n",
       "      <th>395</th>\n",
       "      <td>12.880</td>\n",
       "      <td>28.92</td>\n",
       "      <td>82.50</td>\n",
       "      <td>514.3</td>\n",
       "      <td>0.08123</td>\n",
       "      <td>0.05824</td>\n",
       "      <td>0.06195</td>\n",
       "      <td>0.023430</td>\n",
       "      <td>0.1566</td>\n",
       "      <td>0.05708</td>\n",
       "      <td>...</td>\n",
       "      <td>35.74</td>\n",
       "      <td>88.84</td>\n",
       "      <td>595.7</td>\n",
       "      <td>0.1227</td>\n",
       "      <td>0.16200</td>\n",
       "      <td>0.24390</td>\n",
       "      <td>0.06493</td>\n",
       "      <td>0.2372</td>\n",
       "      <td>0.07242</td>\n",
       "      <td>0</td>\n",
       "    </tr>\n",
       "    <tr>\n",
       "      <th>396</th>\n",
       "      <td>11.890</td>\n",
       "      <td>18.35</td>\n",
       "      <td>77.32</td>\n",
       "      <td>432.2</td>\n",
       "      <td>0.09363</td>\n",
       "      <td>0.11540</td>\n",
       "      <td>0.06636</td>\n",
       "      <td>0.031420</td>\n",
       "      <td>0.1967</td>\n",
       "      <td>0.06314</td>\n",
       "      <td>...</td>\n",
       "      <td>27.10</td>\n",
       "      <td>86.20</td>\n",
       "      <td>531.2</td>\n",
       "      <td>0.1405</td>\n",
       "      <td>0.30460</td>\n",
       "      <td>0.28060</td>\n",
       "      <td>0.11380</td>\n",
       "      <td>0.3397</td>\n",
       "      <td>0.08365</td>\n",
       "      <td>0</td>\n",
       "    </tr>\n",
       "  </tbody>\n",
       "</table>\n",
       "<p>397 rows × 31 columns</p>\n",
       "</div>"
      ],
      "text/plain": [
       "     mean radius  mean texture  mean perimeter  mean area  mean smoothness  \\\n",
       "0          9.567         15.91           60.21      279.6          0.08464   \n",
       "1         13.140         20.74           85.98      536.9          0.08675   \n",
       "2          9.397         21.68           59.75      268.8          0.07969   \n",
       "3         11.430         15.39           73.06      399.8          0.09639   \n",
       "4         12.250         17.94           78.27      460.3          0.08654   \n",
       "..           ...           ...             ...        ...              ...   \n",
       "392       13.150         15.34           85.31      538.9          0.09384   \n",
       "393       10.180         17.53           65.12      313.1          0.10610   \n",
       "394       11.630         29.29           74.87      415.1          0.09357   \n",
       "395       12.880         28.92           82.50      514.3          0.08123   \n",
       "396       11.890         18.35           77.32      432.2          0.09363   \n",
       "\n",
       "     mean compactness  mean concavity  mean concave points  mean symmetry  \\\n",
       "0             0.04087         0.01652             0.016670         0.1551   \n",
       "1             0.10890         0.10850             0.035100         0.1562   \n",
       "2             0.06053         0.03735             0.005128         0.1274   \n",
       "3             0.06889         0.03503             0.028750         0.1734   \n",
       "4             0.06679         0.03885             0.023310         0.1970   \n",
       "..                ...             ...                  ...            ...   \n",
       "392           0.08498         0.09293             0.034830         0.1822   \n",
       "393           0.08502         0.01768             0.019150         0.1910   \n",
       "394           0.08574         0.07160             0.020170         0.1799   \n",
       "395           0.05824         0.06195             0.023430         0.1566   \n",
       "396           0.11540         0.06636             0.031420         0.1967   \n",
       "\n",
       "     mean fractal dimension  ...  worst texture  worst perimeter  worst area  \\\n",
       "0                   0.06403  ...          19.16            65.74       335.9   \n",
       "1                   0.06020  ...          25.46           100.90       689.1   \n",
       "2                   0.06724  ...          27.99            66.61       301.0   \n",
       "3                   0.05865  ...          22.02            79.93       462.0   \n",
       "4                   0.06228  ...          25.22            86.60       564.2   \n",
       "..                      ...  ...            ...              ...         ...   \n",
       "392                 0.06207  ...          20.50            97.67       677.3   \n",
       "393                 0.06908  ...          22.84            71.94       375.6   \n",
       "394                 0.06166  ...          38.81            86.04       527.8   \n",
       "395                 0.05708  ...          35.74            88.84       595.7   \n",
       "396                 0.06314  ...          27.10            86.20       531.2   \n",
       "\n",
       "     worst smoothness  worst compactness  worst concavity  \\\n",
       "0              0.1504            0.09515          0.07161   \n",
       "1              0.1351            0.35490          0.45040   \n",
       "2              0.1086            0.18870          0.18680   \n",
       "3              0.1190            0.16480          0.13990   \n",
       "4              0.1217            0.17880          0.19430   \n",
       "..                ...                ...              ...   \n",
       "392            0.1478            0.22560          0.30090   \n",
       "393            0.1406            0.14400          0.06572   \n",
       "394            0.1406            0.20310          0.29230   \n",
       "395            0.1227            0.16200          0.24390   \n",
       "396            0.1405            0.30460          0.28060   \n",
       "\n",
       "     worst concave points  worst symmetry  worst fractal dimension  target  \n",
       "0                 0.07222          0.2757                  0.08178       0  \n",
       "1                 0.11810          0.2563                  0.08174       0  \n",
       "2                 0.02564          0.2376                  0.09206       0  \n",
       "3                 0.08476          0.2676                  0.06765       0  \n",
       "4                 0.08211          0.3113                  0.08132       0  \n",
       "..                    ...             ...                      ...     ...  \n",
       "392               0.09722          0.3849                  0.08633       0  \n",
       "393               0.05575          0.3055                  0.08797       0  \n",
       "394               0.06835          0.2884                  0.07220       0  \n",
       "395               0.06493          0.2372                  0.07242       0  \n",
       "396               0.11380          0.3397                  0.08365       0  \n",
       "\n",
       "[397 rows x 31 columns]"
      ]
     },
     "execution_count": 139,
     "metadata": {},
     "output_type": "execute_result"
    }
   ],
   "source": [
    "breast_cancer_data = datasets.load_breast_cancer()\n",
    "df = pd.DataFrame(data=breast_cancer_data.data, columns=breast_cancer_data.feature_names)\n",
    "df['target'] = (1 - breast_cancer_data.target)  # 1: malignant, 0: benigh\n",
    "\n",
    "# create a heavily imbalanced dataset\n",
    "malignant = df[df[\"target\"] == 1]\n",
    "benign    = df[df[\"target\"] == 0]\n",
    "malignant_sampled = malignant.sample(n=40, replace=False, random_state=3)\n",
    "df = (\n",
    "    pd.concat([benign, malignant_sampled], axis=0)\n",
    "      .sample(frac=1.0, random_state=42)\n",
    "      .reset_index(drop=True)\n",
    ")\n",
    "\n",
    "df"
   ]
  },
  {
   "cell_type": "code",
   "execution_count": 140,
   "metadata": {
    "id": "ZqDuaN4JkGVR"
   },
   "outputs": [
    {
     "data": {
      "text/plain": [
       "target\n",
       "0    357\n",
       "1     40\n",
       "Name: count, dtype: int64"
      ]
     },
     "execution_count": 140,
     "metadata": {},
     "output_type": "execute_result"
    }
   ],
   "source": [
    "df.target.value_counts()"
   ]
  },
  {
   "cell_type": "markdown",
   "metadata": {
    "id": "h8rSrRZ0kHWA"
   },
   "source": [
    "- **Question 2.1 (5 points):** Does accuracy = 0.9 mean the model is good? What is the accuracy for random guessing? Is accuracy an appropriate evaluation metric for this problem?\n",
    "\n",
    "- **Answer**: No. When randomly guessing, the accuracy is 90% by simply classifying all the samples as benign. Accuracy is not an appropriate evaluation metric for an imbalanced classification problem."
   ]
  },
  {
   "cell_type": "code",
   "execution_count": 141,
   "metadata": {
    "id": "LkiSL_mWkJrI"
   },
   "outputs": [],
   "source": [
    "X = df.drop('target', axis=1)\n",
    "y = df['target']"
   ]
  },
  {
   "cell_type": "markdown",
   "metadata": {
    "id": "bb6oaUxbkLsg"
   },
   "source": [
    "### Train-Test Split\n",
    "\n",
    "**Tip:** When you split into train/test, use `stratify=y` to preserve this imbalance in both sets.\n",
    "\n",
    "- **Qustion 2.2 (5 points)**: Why should we perform a stratified train-test split?\n",
    "\n",
    "- **Answer:** Avoid target distribution shift in the train and test set."
   ]
  },
  {
   "cell_type": "code",
   "execution_count": 142,
   "metadata": {
    "id": "5M_Fvek8kN6s"
   },
   "outputs": [
    {
     "name": "stdout",
     "output_type": "stream",
     "text": [
      "train_size: 317, test_size: 80\n",
      "\n",
      "train distribution: target\n",
      "0    285\n",
      "1     32\n",
      "Name: count, dtype: int64\n",
      "\n",
      "test distribution: target\n",
      "0    72\n",
      "1     8\n",
      "Name: count, dtype: int64\n"
     ]
    }
   ],
   "source": [
    "# Do stratified splits\n",
    "X_train, X_test, y_train, y_test = train_test_split(X, y, test_size=0.2, stratify=y, random_state=3)  # 80% training and 20% test\n",
    "\n",
    "print(f\"train_size: {len(y_train)}, test_size: {len(y_test)}\")\n",
    "print()\n",
    "print(f\"train distribution: {y_train.value_counts()}\")\n",
    "print()\n",
    "print(f\"test distribution: {y_test.value_counts()}\")"
   ]
  },
  {
   "cell_type": "markdown",
   "metadata": {
    "id": "HZ4KznO3kRNn"
   },
   "source": [
    "### Feature Scaling\n",
    "Assuming $\\mathrm{x}_i\\in\\mathbb{R}^N$ is $i_{\\text{th}}$ feature column and $N$ is the total number of samples. Stanadard feature scaling of $\\mathrm{x}_i$ is done as follows:\n",
    "\n",
    "$$\\hat{\\mathrm{x}}_i = (\\mathrm{x}_i - \\mu_i)/\\sigma_i ~~,$$\n",
    "\n",
    "where $\\mu_i$ and $\\sigma_i$ are the mean and standard deviation of $i_{\\text{th}}$ feature column $\\mathrm{x}_i$."
   ]
  },
  {
   "cell_type": "code",
   "execution_count": 143,
   "metadata": {
    "id": "_Mz371KfkTHS"
   },
   "outputs": [],
   "source": [
    "from sklearn.preprocessing import StandardScaler\n",
    "scaler = StandardScaler()\n",
    "\n",
    "X_train = scaler.fit_transform(X_train)\n",
    "X_test = scaler.transform(X_test)"
   ]
  },
  {
   "cell_type": "markdown",
   "metadata": {
    "id": "8hafz2JmkVUH"
   },
   "source": [
    "## 2.2 Baseline\n",
    "\n",
    "Evaluation of an imbalanced classification task:\n",
    "\n",
    "Confusion-matrix terms: TP (true positive), FP (false positive), TN (true negative), FN (false negative).\n",
    "\n",
    "* **Precision**: TP/(TP+FP)\n",
    "* **Recall**: TP/(TP+FN)\n",
    "* **F1-score**: 2\\*Precision\\*Recall / (Precision + Recall) = 2TP / (2TP + FP + FN)"
   ]
  },
  {
   "cell_type": "code",
   "execution_count": 144,
   "metadata": {
    "id": "HBgulsTwkZJ8"
   },
   "outputs": [],
   "source": [
    "from sklearn.tree import DecisionTreeClassifier\n",
    "\n",
    "model = DecisionTreeClassifier(random_state=0)\n",
    "model.fit(X_train, y_train)\n",
    "\n",
    "y_test_pred = model.predict(X_test)"
   ]
  },
  {
   "cell_type": "code",
   "execution_count": 145,
   "metadata": {
    "id": "7nCAATiWkZIV"
   },
   "outputs": [
    {
     "data": {
      "text/plain": [
       "<sklearn.metrics._plot.confusion_matrix.ConfusionMatrixDisplay at 0x1b392b395a0>"
      ]
     },
     "execution_count": 145,
     "metadata": {},
     "output_type": "execute_result"
    },
    {
     "data": {
      "image/png": "[encoded data removed]",
      "text/plain": [
       "<Figure size 640x480 with 2 Axes>"
      ]
     },
     "metadata": {},
     "output_type": "display_data"
    }
   ],
   "source": [
    "# Plot confusion matrix\n",
    "from sklearn.metrics import confusion_matrix, ConfusionMatrixDisplay\n",
    "\n",
    "cm = confusion_matrix(y_test, y_test_pred)  # counts\n",
    "disp = ConfusionMatrixDisplay(confusion_matrix=cm)\n",
    "disp.plot(cmap=\"Blues\")"
   ]
  },
  {
   "cell_type": "markdown",
   "metadata": {
    "id": "E1LKwtB8kXi1"
   },
   "source": [
    "### Anaylze the Mistakes (10 points)\n",
    "\n",
    "Compute the confusion matrix and answer the following questions:\n",
    "\n",
    "- **Question 2.3 (3 points):** How many *benign* cases were predicted as *malignant*?\n",
    "\n",
    "- **Answer:** 5 (might vary due to the random seed )\n",
    "\n",
    "- **Question 2.4 (3 points):** How many *malignant* cases were predicted as *benign*?\n",
    "\n",
    "- **Answer:** 1 (might vary due to the random seed )\n",
    "\n",
    "- **Question 2.5 (4 points):** Are the two error types equivalent in consequence?\n",
    "\n",
    "- **Answer:** No. In this clinical context, false negatives are typically more severe because they may delay treatment, whereas false positives mainly lead to additional testing and anxiety."
   ]
  },
  {
   "cell_type": "markdown",
   "metadata": {
    "id": "7P22-UMykkLe"
   },
   "source": [
    "### Compute the metrics (5 points)"
   ]
  },
  {
   "cell_type": "code",
   "execution_count": 146,
   "metadata": {
    "id": "0KTCQ6xMkguH"
   },
   "outputs": [
    {
     "name": "stdout",
     "output_type": "stream",
     "text": [
      "Precision:0.5833\n",
      "Recall:0.8750\n",
      "F1-score:0.7000\n"
     ]
    }
   ],
   "source": [
    "TP = np.sum(np.logical_and(y_test_pred == 1, y_test == 1))\n",
    "TN = np.sum(np.logical_and(y_test_pred == 0, y_test == 0))\n",
    "FP = np.sum(np.logical_and(y_test_pred == 1, y_test == 0))\n",
    "FN = np.sum(np.logical_and(y_test_pred == 0, y_test == 1))\n",
    "\n",
    "# your code here\n",
    "print(f\"Precision:{TP/(TP+FP) if (TP+FP) != 0 else 0.0:.4f}\")\n",
    "print(f\"Recall:{TP/(TP+FN) if (TP+FN) != 0 else 0.0:.4f}\")\n",
    "print(f\"F1-score:{2*TP/(2*TP + FP + FN) if (2*TP + FP + FN) != 0 else 0.0:.4f}\")"
   ]
  },
  {
   "cell_type": "markdown",
   "metadata": {
    "id": "YePS1nTgkob-"
   },
   "source": [
    "## 2.3 Improve model performance by reweighting (15 points)\n",
    "\n",
    "“Reweighting” means: give each class $c$ a weight $w_c$ so the loss pays more attention to rare classes.\n",
    "\n",
    "Args:\n",
    "- `class_weight`: Weights associated with classes in the form {class_label: weight}. If not given, all classes are supposed to have weight one. The “balanced” mode uses the values of y to automatically adjust weights inversely proportional to class frequencies in the input data as n_samples / (n_classes * np.bincount(y)).\n",
    "\n",
    "\n",
    "**Task 2.1 (10 points):** Play around with the `class_weight` and see how it affects the performance. What's your observation?\n",
    "\n",
    "**Answer:** class_weight can adjust the model's emphasis on the minority class. Increasing the weight of the minority class can decrease FN but may also lead to increase FP, which in turn affects Recall and Precision.\n",
    "\n",
    "**Question 2.6 (5 points):** When you do your best, how many lives could you save (from FN to TP) compared to the baseline model?\n",
    "\n",
    "**Answer:** Compared to baseline (FN=1), the best setting balanced reduces FN to 1, saving 0 lives (FN->TP)"
   ]
  },
  {
   "cell_type": "code",
   "execution_count": 147,
   "metadata": {
    "id": "jK0bss6wkrw4"
   },
   "outputs": [],
   "source": [
    "# Set class_weight, here is a balanced example\n",
    "class_weight = \"balanced\""
   ]
  },
  {
   "cell_type": "code",
   "execution_count": 148,
   "metadata": {
    "id": "AiEb887uksd7"
   },
   "outputs": [
    {
     "data": {
      "text/plain": [
       "<sklearn.metrics._plot.confusion_matrix.ConfusionMatrixDisplay at 0x1b392ba64d0>"
      ]
     },
     "execution_count": 148,
     "metadata": {},
     "output_type": "execute_result"
    },
    {
     "data": {
      "image/png": "[encoded data removed]",
      "text/plain": [
       "<Figure size 640x480 with 2 Axes>"
      ]
     },
     "metadata": {},
     "output_type": "display_data"
    }
   ],
   "source": [
    "model = DecisionTreeClassifier(class_weight=class_weight, random_state=0)\n",
    "model.fit(X_train, y_train)\n",
    "y_test_pred = model.predict(X_test)\n",
    "y_test_pred\n",
    "\n",
    "cm = confusion_matrix(y_test, y_test_pred)  # counts\n",
    "disp = ConfusionMatrixDisplay(confusion_matrix=cm)\n",
    "disp.plot(cmap=\"Blues\")"
   ]
  },
  {
   "cell_type": "code",
   "execution_count": 149,
   "metadata": {
    "id": "LfVtyxT8kuRx"
   },
   "outputs": [
    {
     "name": "stdout",
     "output_type": "stream",
     "text": [
      "Precision =  0.875\n",
      "Recall =  0.875\n",
      "F1-score =  0.875\n"
     ]
    }
   ],
   "source": [
    "TP = np.sum(np.logical_and(y_test_pred == 1, y_test == 1))\n",
    "TN = np.sum(np.logical_and(y_test_pred == 0, y_test == 0))\n",
    "FP = np.sum(np.logical_and(y_test_pred == 1, y_test == 0))\n",
    "FN = np.sum(np.logical_and(y_test_pred == 0, y_test == 1))\n",
    "\n",
    "print(\"Precision = \", TP / (TP+FP))\n",
    "print(\"Recall = \", TP / (TP+FN))\n",
    "print(\"F1-score = \", 2*TP/(2*TP+FP+FN))"
   ]
  },
  {
   "cell_type": "markdown",
   "metadata": {
    "id": "-iYCvry_kxv9"
   },
   "source": [
    "Thank you for your efforts!"
   ]
  }
 ],
 "metadata": {
  "colab": {
   "provenance": [],
   "toc_visible": true
  },
  "kernelspec": {
   "display_name": "ml_lab1",
   "language": "python",
   "name": "python3"
  },
  "language_info": {
   "codemirror_mode": {
    "name": "ipython",
    "version": 3
   },
   "file_extension": ".py",
   "mimetype": "text/x-python",
   "name": "python",
   "nbconvert_exporter": "python",
   "pygments_lexer": "ipython3",
   "version": "3.10.18"
  },
  "varInspector": {
   "cols": {
    "lenName": 16,
    "lenType": 16,
    "lenVar": 40
   },
   "kernels_config": {
    "python": {
     "delete_cmd_postfix": "",
     "delete_cmd_prefix": "del ",
     "library": "var_list.py",
     "varRefreshCmd": "print(var_dic_list())"
    },
    "r": {
     "delete_cmd_postfix": ") ",
     "delete_cmd_prefix": "rm(",
     "library": "var_list.r",
     "varRefreshCmd": "cat(var_dic_list()) "
    }
   },
   "types_to_exclude": [
    "module",
    "function",
    "builtin_function_or_method",
    "instance",
    "_Feature"
   ],
   "window_display": false
  }
 },
 "nbformat": 4,
 "nbformat_minor": 0
}
