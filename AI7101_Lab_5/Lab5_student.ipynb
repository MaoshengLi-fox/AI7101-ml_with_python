{
  "cells": [
    {
      "cell_type": "markdown",
      "metadata": {
        "id": "aThwNnTQxZO9"
      },
      "source": [
        "\n",
        "# AI7101 Machine Learning with Python-001 (2025 Fall)\n",
        "# Lab 5\n",
        "\n",
        "## TAs: Ahmed Elshabrawy, Nada Saadi"
      ]
    },
    {
      "cell_type": "markdown",
      "metadata": {
        "id": "AwXWaqRQgBJR"
      },
      "source": [
        "## Lab Overview\n",
        "\n",
        "In this lab you will:\n",
        "1. Explore the Kickstarter dataset and understand its features.\n",
        "2. Perform different types of feature selection: manual, filter, wrapper, embedded.\n",
        "3. Visualize model performance across methods.\n",
        "4. Reflect on bias–variance tradeoffs."
      ]
    },
    {
      "cell_type": "markdown",
      "metadata": {
        "id": "3LdHqbL9gOKm"
      },
      "source": [
        "## Setup\n",
        "Install necessary libraries (uncomment if running in a clean environment), download the data from LMS (ks-projects-201801.csv)"
      ]
    },
    {
      "cell_type": "code",
      "execution_count": 1,
      "metadata": {
        "colab": {
          "base_uri": "https://localhost:8080/"
        },
        "id": "-7AtUpx8gUQ3",
        "outputId": "db3fa93b-4823-489c-eee8-5ee0cf979ef6"
      },
      "outputs": [],
      "source": [
        "# !pip install pandas scikit-learn matplotlib numpy"
      ]
    },
    {
      "cell_type": "markdown",
      "metadata": {
        "id": "ucvKLijDgmFm"
      },
      "source": [
        "## Import Necessary Libraries"
      ]
    },
    {
      "cell_type": "code",
      "execution_count": 2,
      "metadata": {
        "id": "TWpRysdBgoqO"
      },
      "outputs": [],
      "source": [
        "import pandas as pd\n",
        "import numpy as np\n",
        "import matplotlib.pyplot as plt\n",
        "from sklearn.model_selection import train_test_split\n",
        "from sklearn.linear_model import LogisticRegression\n",
        "from sklearn.feature_selection import SelectKBest, f_classif, RFE\n",
        "from sklearn.tree import DecisionTreeClassifier\n",
        "from sklearn.preprocessing import StandardScaler\n",
        "from sklearn.decomposition import PCA"
      ]
    },
    {
      "cell_type": "markdown",
      "metadata": {
        "id": "YM3-Kf54gwdM"
      },
      "source": [
        "## Part 0: Dataset Exploration (10 pts)\n",
        "\n",
        "We will use the kickstarter dataset. Kickstarter is a crowdfounding platform where people announce their projects with set financial goals and others can support the projects by \"pledging\" some money. The goal will be to predict if the project will be successfull, i.e. would it achieve the funding goal."
      ]
    },
    {
      "cell_type": "markdown",
      "metadata": {
        "id": "83cBD94xg06M"
      },
      "source": [
        "### Load the dataset and select the first 10k rows only (Kickstarter, 10k rows)"
      ]
    },
    {
      "cell_type": "code",
      "execution_count": 3,
      "metadata": {
        "colab": {
          "base_uri": "https://localhost:8080/",
          "height": 923
        },
        "id": "j1exJeChg16i",
        "outputId": "3962b503-e87d-42c0-96e4-6f56d263ea02"
      },
      "outputs": [
        {
          "data": {
            "text/html": [
              "<div>\n",
              "<style scoped>\n",
              "    .dataframe tbody tr th:only-of-type {\n",
              "        vertical-align: middle;\n",
              "    }\n",
              "\n",
              "    .dataframe tbody tr th {\n",
              "        vertical-align: top;\n",
              "    }\n",
              "\n",
              "    .dataframe thead th {\n",
              "        text-align: right;\n",
              "    }\n",
              "</style>\n",
              "<table border=\"1\" class=\"dataframe\">\n",
              "  <thead>\n",
              "    <tr style=\"text-align: right;\">\n",
              "      <th></th>\n",
              "      <th>ID</th>\n",
              "      <th>name</th>\n",
              "      <th>category</th>\n",
              "      <th>main_category</th>\n",
              "      <th>currency</th>\n",
              "      <th>deadline</th>\n",
              "      <th>goal</th>\n",
              "      <th>launched</th>\n",
              "      <th>pledged</th>\n",
              "      <th>state</th>\n",
              "      <th>backers</th>\n",
              "      <th>country</th>\n",
              "      <th>usd pledged</th>\n",
              "      <th>usd_pledged_real</th>\n",
              "      <th>usd_goal_real</th>\n",
              "    </tr>\n",
              "  </thead>\n",
              "  <tbody>\n",
              "    <tr>\n",
              "      <th>0</th>\n",
              "      <td>1000002330</td>\n",
              "      <td>The Songs of Adelaide &amp; Abullah</td>\n",
              "      <td>Poetry</td>\n",
              "      <td>Publishing</td>\n",
              "      <td>GBP</td>\n",
              "      <td>2015-10-09</td>\n",
              "      <td>1000.0</td>\n",
              "      <td>2015-08-11 12:12:28</td>\n",
              "      <td>0.00</td>\n",
              "      <td>failed</td>\n",
              "      <td>0</td>\n",
              "      <td>GB</td>\n",
              "      <td>0.00</td>\n",
              "      <td>0.00</td>\n",
              "      <td>1533.95</td>\n",
              "    </tr>\n",
              "    <tr>\n",
              "      <th>1</th>\n",
              "      <td>1000003930</td>\n",
              "      <td>Greeting From Earth: ZGAC Arts Capsule For ET</td>\n",
              "      <td>Narrative Film</td>\n",
              "      <td>Film &amp; Video</td>\n",
              "      <td>USD</td>\n",
              "      <td>2017-11-01</td>\n",
              "      <td>30000.0</td>\n",
              "      <td>2017-09-02 04:43:57</td>\n",
              "      <td>2421.00</td>\n",
              "      <td>failed</td>\n",
              "      <td>15</td>\n",
              "      <td>US</td>\n",
              "      <td>100.00</td>\n",
              "      <td>2421.00</td>\n",
              "      <td>30000.00</td>\n",
              "    </tr>\n",
              "    <tr>\n",
              "      <th>2</th>\n",
              "      <td>1000004038</td>\n",
              "      <td>Where is Hank?</td>\n",
              "      <td>Narrative Film</td>\n",
              "      <td>Film &amp; Video</td>\n",
              "      <td>USD</td>\n",
              "      <td>2013-02-26</td>\n",
              "      <td>45000.0</td>\n",
              "      <td>2013-01-12 00:20:50</td>\n",
              "      <td>220.00</td>\n",
              "      <td>failed</td>\n",
              "      <td>3</td>\n",
              "      <td>US</td>\n",
              "      <td>220.00</td>\n",
              "      <td>220.00</td>\n",
              "      <td>45000.00</td>\n",
              "    </tr>\n",
              "    <tr>\n",
              "      <th>3</th>\n",
              "      <td>1000007540</td>\n",
              "      <td>ToshiCapital Rekordz Needs Help to Complete Album</td>\n",
              "      <td>Music</td>\n",
              "      <td>Music</td>\n",
              "      <td>USD</td>\n",
              "      <td>2012-04-16</td>\n",
              "      <td>5000.0</td>\n",
              "      <td>2012-03-17 03:24:11</td>\n",
              "      <td>1.00</td>\n",
              "      <td>failed</td>\n",
              "      <td>1</td>\n",
              "      <td>US</td>\n",
              "      <td>1.00</td>\n",
              "      <td>1.00</td>\n",
              "      <td>5000.00</td>\n",
              "    </tr>\n",
              "    <tr>\n",
              "      <th>4</th>\n",
              "      <td>1000011046</td>\n",
              "      <td>Community Film Project: The Art of Neighborhoo...</td>\n",
              "      <td>Film &amp; Video</td>\n",
              "      <td>Film &amp; Video</td>\n",
              "      <td>USD</td>\n",
              "      <td>2015-08-29</td>\n",
              "      <td>19500.0</td>\n",
              "      <td>2015-07-04 08:35:03</td>\n",
              "      <td>1283.00</td>\n",
              "      <td>canceled</td>\n",
              "      <td>14</td>\n",
              "      <td>US</td>\n",
              "      <td>1283.00</td>\n",
              "      <td>1283.00</td>\n",
              "      <td>19500.00</td>\n",
              "    </tr>\n",
              "    <tr>\n",
              "      <th>5</th>\n",
              "      <td>1000014025</td>\n",
              "      <td>Monarch Espresso Bar</td>\n",
              "      <td>Restaurants</td>\n",
              "      <td>Food</td>\n",
              "      <td>USD</td>\n",
              "      <td>2016-04-01</td>\n",
              "      <td>50000.0</td>\n",
              "      <td>2016-02-26 13:38:27</td>\n",
              "      <td>52375.00</td>\n",
              "      <td>successful</td>\n",
              "      <td>224</td>\n",
              "      <td>US</td>\n",
              "      <td>52375.00</td>\n",
              "      <td>52375.00</td>\n",
              "      <td>50000.00</td>\n",
              "    </tr>\n",
              "    <tr>\n",
              "      <th>6</th>\n",
              "      <td>1000023410</td>\n",
              "      <td>Support Solar Roasted Coffee &amp; Green Energy!  ...</td>\n",
              "      <td>Food</td>\n",
              "      <td>Food</td>\n",
              "      <td>USD</td>\n",
              "      <td>2014-12-21</td>\n",
              "      <td>1000.0</td>\n",
              "      <td>2014-12-01 18:30:44</td>\n",
              "      <td>1205.00</td>\n",
              "      <td>successful</td>\n",
              "      <td>16</td>\n",
              "      <td>US</td>\n",
              "      <td>1205.00</td>\n",
              "      <td>1205.00</td>\n",
              "      <td>1000.00</td>\n",
              "    </tr>\n",
              "    <tr>\n",
              "      <th>7</th>\n",
              "      <td>1000030581</td>\n",
              "      <td>Chaser Strips. Our Strips make Shots their B*tch!</td>\n",
              "      <td>Drinks</td>\n",
              "      <td>Food</td>\n",
              "      <td>USD</td>\n",
              "      <td>2016-03-17</td>\n",
              "      <td>25000.0</td>\n",
              "      <td>2016-02-01 20:05:12</td>\n",
              "      <td>453.00</td>\n",
              "      <td>failed</td>\n",
              "      <td>40</td>\n",
              "      <td>US</td>\n",
              "      <td>453.00</td>\n",
              "      <td>453.00</td>\n",
              "      <td>25000.00</td>\n",
              "    </tr>\n",
              "    <tr>\n",
              "      <th>8</th>\n",
              "      <td>1000034518</td>\n",
              "      <td>SPIN - Premium Retractable In-Ear Headphones w...</td>\n",
              "      <td>Product Design</td>\n",
              "      <td>Design</td>\n",
              "      <td>USD</td>\n",
              "      <td>2014-05-29</td>\n",
              "      <td>125000.0</td>\n",
              "      <td>2014-04-24 18:14:43</td>\n",
              "      <td>8233.00</td>\n",
              "      <td>canceled</td>\n",
              "      <td>58</td>\n",
              "      <td>US</td>\n",
              "      <td>8233.00</td>\n",
              "      <td>8233.00</td>\n",
              "      <td>125000.00</td>\n",
              "    </tr>\n",
              "    <tr>\n",
              "      <th>9</th>\n",
              "      <td>100004195</td>\n",
              "      <td>STUDIO IN THE SKY - A Documentary Feature Film...</td>\n",
              "      <td>Documentary</td>\n",
              "      <td>Film &amp; Video</td>\n",
              "      <td>USD</td>\n",
              "      <td>2014-08-10</td>\n",
              "      <td>65000.0</td>\n",
              "      <td>2014-07-11 21:55:48</td>\n",
              "      <td>6240.57</td>\n",
              "      <td>canceled</td>\n",
              "      <td>43</td>\n",
              "      <td>US</td>\n",
              "      <td>6240.57</td>\n",
              "      <td>6240.57</td>\n",
              "      <td>65000.00</td>\n",
              "    </tr>\n",
              "  </tbody>\n",
              "</table>\n",
              "</div>"
            ],
            "text/plain": [
              "           ID                                               name  \\\n",
              "0  1000002330                    The Songs of Adelaide & Abullah   \n",
              "1  1000003930      Greeting From Earth: ZGAC Arts Capsule For ET   \n",
              "2  1000004038                                     Where is Hank?   \n",
              "3  1000007540  ToshiCapital Rekordz Needs Help to Complete Album   \n",
              "4  1000011046  Community Film Project: The Art of Neighborhoo...   \n",
              "5  1000014025                               Monarch Espresso Bar   \n",
              "6  1000023410  Support Solar Roasted Coffee & Green Energy!  ...   \n",
              "7  1000030581  Chaser Strips. Our Strips make Shots their B*tch!   \n",
              "8  1000034518  SPIN - Premium Retractable In-Ear Headphones w...   \n",
              "9   100004195  STUDIO IN THE SKY - A Documentary Feature Film...   \n",
              "\n",
              "         category main_category currency    deadline      goal  \\\n",
              "0          Poetry    Publishing      GBP  2015-10-09    1000.0   \n",
              "1  Narrative Film  Film & Video      USD  2017-11-01   30000.0   \n",
              "2  Narrative Film  Film & Video      USD  2013-02-26   45000.0   \n",
              "3           Music         Music      USD  2012-04-16    5000.0   \n",
              "4    Film & Video  Film & Video      USD  2015-08-29   19500.0   \n",
              "5     Restaurants          Food      USD  2016-04-01   50000.0   \n",
              "6            Food          Food      USD  2014-12-21    1000.0   \n",
              "7          Drinks          Food      USD  2016-03-17   25000.0   \n",
              "8  Product Design        Design      USD  2014-05-29  125000.0   \n",
              "9     Documentary  Film & Video      USD  2014-08-10   65000.0   \n",
              "\n",
              "              launched   pledged       state  backers country  usd pledged  \\\n",
              "0  2015-08-11 12:12:28      0.00      failed        0      GB         0.00   \n",
              "1  2017-09-02 04:43:57   2421.00      failed       15      US       100.00   \n",
              "2  2013-01-12 00:20:50    220.00      failed        3      US       220.00   \n",
              "3  2012-03-17 03:24:11      1.00      failed        1      US         1.00   \n",
              "4  2015-07-04 08:35:03   1283.00    canceled       14      US      1283.00   \n",
              "5  2016-02-26 13:38:27  52375.00  successful      224      US     52375.00   \n",
              "6  2014-12-01 18:30:44   1205.00  successful       16      US      1205.00   \n",
              "7  2016-02-01 20:05:12    453.00      failed       40      US       453.00   \n",
              "8  2014-04-24 18:14:43   8233.00    canceled       58      US      8233.00   \n",
              "9  2014-07-11 21:55:48   6240.57    canceled       43      US      6240.57   \n",
              "\n",
              "   usd_pledged_real  usd_goal_real  \n",
              "0              0.00        1533.95  \n",
              "1           2421.00       30000.00  \n",
              "2            220.00       45000.00  \n",
              "3              1.00        5000.00  \n",
              "4           1283.00       19500.00  \n",
              "5          52375.00       50000.00  \n",
              "6           1205.00        1000.00  \n",
              "7            453.00       25000.00  \n",
              "8           8233.00      125000.00  \n",
              "9           6240.57       65000.00  "
            ]
          },
          "execution_count": 3,
          "metadata": {},
          "output_type": "execute_result"
        }
      ],
      "source": [
        "# Pseudocode:\n",
        "# data = load_data(\"path_to_file\", nrows=100000)\n",
        "# data.head(10)\n",
        "\n",
        "#<<<<<<<<<<<<<<< Your Code Here >>>>>>>>>>>>>>>>>>>>>\n",
        "data= pd.read_csv(\"ks-projects-201801.csv.csv\", nrows=100000)\n",
        "data.head(10)"
      ]
    },
    {
      "cell_type": "markdown",
      "metadata": {
        "id": "D-IZUXyOg_L4"
      },
      "source": [
        "### Explore dataset structure"
      ]
    },
    {
      "cell_type": "code",
      "execution_count": 4,
      "metadata": {
        "colab": {
          "base_uri": "https://localhost:8080/"
        },
        "id": "hHn8wpNag4Hw",
        "outputId": "d9e6d10d-d52a-4661-a4c7-1774d7f91eb6"
      },
      "outputs": [
        {
          "name": "stdout",
          "output_type": "stream",
          "text": [
            "(100000, 15)\n",
            "ID                    int64\n",
            "name                 object\n",
            "category             object\n",
            "main_category        object\n",
            "currency             object\n",
            "deadline             object\n",
            "goal                float64\n",
            "launched             object\n",
            "pledged             float64\n",
            "state                object\n",
            "backers               int64\n",
            "country              object\n",
            "usd pledged         float64\n",
            "usd_pledged_real    float64\n",
            "usd_goal_real       float64\n",
            "dtype: object\n"
          ]
        }
      ],
      "source": [
        "# Pseudocode:\n",
        "# print_shape(data)\n",
        "# print_types(data)\n",
        "\n",
        "#<<<<<<<<<<<<<<< Your Code Here >>>>>>>>>>>>>>>>>>>>>\n",
        "print(data.shape)\n",
        "print(data.dtypes)"
      ]
    },
    {
      "cell_type": "markdown",
      "metadata": {
        "id": "hwZJZfSk4lT7"
      },
      "source": [
        "### Check missing values:"
      ]
    },
    {
      "cell_type": "code",
      "execution_count": 5,
      "metadata": {
        "colab": {
          "base_uri": "https://localhost:8080/"
        },
        "id": "1z1jGf5d4idX",
        "outputId": "8d865813-5988-4551-9120-8eef440dc52b"
      },
      "outputs": [
        {
          "name": "stdout",
          "output_type": "stream",
          "text": [
            "\n",
            "Missing values:\n",
            "ID                    0\n",
            "name                  0\n",
            "category              0\n",
            "main_category         0\n",
            "currency              0\n",
            "deadline              0\n",
            "goal                  0\n",
            "launched              0\n",
            "pledged               0\n",
            "state                 0\n",
            "backers               0\n",
            "country               0\n",
            "usd pledged         988\n",
            "usd_pledged_real      0\n",
            "usd_goal_real         0\n",
            "dtype: int64\n"
          ]
        }
      ],
      "source": [
        "# Pseudocode:\n",
        "# print(data.nul.sum)\n",
        "print(\"\\nMissing values:\")\n",
        "#<<<<<<<<<<<<<<< Your Code Here >>>>>>>>>>>>>>>>>>>>>\n",
        "print(data.isnull().sum())"
      ]
    },
    {
      "cell_type": "markdown",
      "metadata": {
        "id": "3akLqltWhDJm"
      },
      "source": [
        "### Visualize target balance (the state column)"
      ]
    },
    {
      "cell_type": "code",
      "execution_count": 6,
      "metadata": {
        "colab": {
          "base_uri": "https://localhost:8080/",
          "height": 533
        },
        "id": "YrM0c9lihCAr",
        "outputId": "e18be457-2802-4bf7-966b-8a9595184c06"
      },
      "outputs": [
        {
          "data": {
            "image/png": "[encoded data removed]",
            "text/plain": [
              "<Figure size 1000x600 with 1 Axes>"
            ]
          },
          "metadata": {},
          "output_type": "display_data"
        }
      ],
      "source": [
        "# Pseudocode:\n",
        "# plot_bar(target_counts of the state column)\n",
        "\n",
        "#<<<<<<<<<<<<<<< Your Code Here >>>>>>>>>>>>>>>>>>>>>\n",
        "target_counts = data['state'].value_counts()\n",
        "plt.figure(figsize=(10, 6))\n",
        "target_counts.plot(kind='bar', color=['blue', 'orange', 'green', 'red', 'purple', 'brown'])\n",
        "plt.title('Distribution of Project States')\n",
        "plt.xlabel('State')\n",
        "plt.ylabel('Number of Projects')\n",
        "plt.xticks(rotation=45)\n",
        "plt.show()"
      ]
    },
    {
      "cell_type": "markdown",
      "metadata": {
        "id": "QAR1LVgj47QR"
      },
      "source": [
        "#### Why we exclude certain features:\n",
        "\n",
        "1. 'pledged', 'usd pledged', 'usd_pledged_real': These represent the outcome!\n",
        "   - They show how much money was raised\n",
        "   - Using them would be \"cheating\" - we'd be using the result to predict itself\n",
        "   \n",
        "2. 'backers': Number of people who backed the project\n",
        "   - This is only known AFTER the campaign runs\n",
        "   - In real prediction scenarios, we wouldn't have this information\n",
        "   \n",
        "3. 'ID': Just an identifier, not predictive\n",
        "   \n",
        "4. 'name': Too specific - each project has unique name\n",
        "   - Creates thousands of dummy variables (one per unique name)\n",
        "   - Leads to overfitting - model memorizes specific projects\n",
        "   \n",
        "For this exercise, we'll focus on features that would be known BEFORE\n",
        "a campaign launches."
      ]
    },
    {
      "cell_type": "markdown",
      "metadata": {},
      "source": [
        "#### Filter to only successful/failed projects for binary classification"
      ]
    },
    {
      "cell_type": "code",
      "execution_count": 7,
      "metadata": {},
      "outputs": [
        {
          "name": "stdout",
          "output_type": "stream",
          "text": [
            "\n",
            "Filtered to binary classification: 87710 samples\n"
          ]
        }
      ],
      "source": [
        "df_binary = data[data['state'].isin(['successful', 'failed'])].copy() # Your Code Here\n",
        "print(f\"\\nFiltered to binary classification: {len(df_binary)} samples\")\n",
        "# Create target variable\n",
        "y = (df_binary['state'] == 'successful').astype(int)"
      ]
    },
    {
      "cell_type": "markdown",
      "metadata": {
        "id": "YrslwQE15Hik"
      },
      "source": [
        "#### Handle the datetime columns"
      ]
    },
    {
      "cell_type": "code",
      "execution_count": 8,
      "metadata": {
        "id": "8PBJ8pf-5GPZ"
      },
      "outputs": [
        {
          "name": "stdout",
          "output_type": "stream",
          "text": [
            "0       2015-08-11 12:12:28\n",
            "1       2017-09-02 04:43:57\n",
            "2       2013-01-12 00:20:50\n",
            "3       2012-03-17 03:24:11\n",
            "5       2016-02-26 13:38:27\n",
            "                ...        \n",
            "99995   2012-04-30 21:33:42\n",
            "99996   2016-05-10 17:01:59\n",
            "99997   2014-10-18 19:02:13\n",
            "99998   2016-09-29 23:56:50\n",
            "99999   2016-11-27 00:08:18\n",
            "Name: launched, Length: 87710, dtype: datetime64[ns]\n"
          ]
        }
      ],
      "source": [
        "# Pseudocode:\n",
        "# data[launched] to date time\n",
        "# data[deadline] to date time\n",
        "\n",
        "#<<<<<<<<<<<<<<< Your Code Here >>>>>>>>>>>>>>>>>>>>>\n",
        "df_binary['launched'] = pd.to_datetime(df_binary['launched'])\n",
        "df_binary['deadline'] = pd.to_datetime(df_binary['deadline'])\n",
        "print(df_binary['launched'])"
      ]
    },
    {
      "cell_type": "markdown",
      "metadata": {
        "id": "s0dLcnH15cy7"
      },
      "source": [
        "#### Manual Feature Engineering"
      ]
    },
    {
      "cell_type": "code",
      "execution_count": 9,
      "metadata": {
        "colab": {
          "base_uri": "https://localhost:8080/"
        },
        "id": "byu7LuMS5cEI",
        "outputId": "6829e0c9-1aaa-48f9-b774-358b26b340f5"
      },
      "outputs": [
        {
          "name": "stdout",
          "output_type": "stream",
          "text": [
            "Date features created: campaign_days, launch_month, launch_year\n",
            "   campaign_days  launch_month  launch_year\n",
            "0             58             8         2015\n",
            "1             59             9         2017\n",
            "2             44             1         2013\n",
            "3             29             3         2012\n",
            "5             34             2         2016\n"
          ]
        }
      ],
      "source": [
        "#<<<<<<<<<<<<<<< Fill in Here >>>>>>>>>>>>>>>>>>>>>\n",
        "# Campaign duration (known at launch)\n",
        "df_binary['campaign_days'] = (df_binary['deadline'] - df_binary['launched']).dt.days # Pseudocode: (data[deadline] - data[launched]).days\n",
        "# Launch month (seasonality)\n",
        "df_binary['launch_month'] = (df_binary['launched'].dt.month) # data[launched].month\n",
        "\n",
        "# Launch year\n",
        "df_binary['launch_year'] = (df_binary['launched'].dt.year) # data[laucnhed].year\n",
        "\n",
        "print(\"Date features created: campaign_days, launch_month, launch_year\")\n",
        "print(df_binary[['campaign_days', 'launch_month', 'launch_year']].head())"
      ]
    },
    {
      "cell_type": "markdown",
      "metadata": {
        "id": "aiRGCo655uMC"
      },
      "source": [
        "#### Goal amount scale by log to handle skewness"
      ]
    },
    {
      "cell_type": "code",
      "execution_count": 10,
      "metadata": {
        "id": "ivLFXXRc5jvV"
      },
      "outputs": [
        {
          "name": "stdout",
          "output_type": "stream",
          "text": [
            "Log goal feature created\n",
            "0     6.908755\n",
            "1    10.308986\n",
            "2    10.714440\n",
            "3     8.517393\n",
            "5    10.819798\n",
            "Name: log_goal, dtype: float64\n"
          ]
        }
      ],
      "source": [
        "#<<<<<<<<<<<<<<< Fill in Here >>>>>>>>>>>>>>>>>>>>>\n",
        "df_binary['log_goal'] = np.log1p(df_binary['goal']) # log(data[goal])\n",
        "print(\"Log goal feature created\")\n",
        "print(df_binary['log_goal'].head())"
      ]
    },
    {
      "cell_type": "markdown",
      "metadata": {
        "id": "AyOStlnj5562"
      },
      "source": [
        "#### Handle Categorical Variables Properly"
      ]
    },
    {
      "cell_type": "code",
      "execution_count": 11,
      "metadata": {
        "colab": {
          "base_uri": "https://localhost:8080/"
        },
        "id": "CcD9G06n58m4",
        "outputId": "aaa63003-db94-4d63-987d-5b8e1647ff24"
      },
      "outputs": [
        {
          "name": "stdout",
          "output_type": "stream",
          "text": [
            "Main categories: 15 unique values\n",
            "Currencies: 14 unique values\n",
            "Countries: 23 unique values\n",
            "\n",
            "Final feature matrix shape: (87710, 56)\n",
            "Number of features: 56\n"
          ]
        }
      ],
      "source": [
        "#<<<<<<<<<<<<<<< Fill in Here >>>>>>>>>>>>>>>>>>>>>\n",
        "# Main category - reasonable number of categories\n",
        "print(f\"Main categories: {df_binary['main_category'].nunique()} unique values\")\n",
        "main_cat_dummies = df_binary['main_category'].str.get_dummies() # create dummy binary columns for data[main_category]\n",
        "\n",
        "# Currency - reasonable number\n",
        "print(f\"Currencies: {df_binary['currency'].nunique()} unique values\")\n",
        "currency_dummies = df_binary['currency'].str.get_dummies() # create dummy binary columns for data[currency]\n",
        "\n",
        "# Country - reasonable number\n",
        "print(f\"Countries: {df_binary['country'].nunique()} unique values\")\n",
        "country_dummies = df_binary['country'].str.get_dummies() # create dummy binary columns for data[country]\n",
        "\n",
        "# Create feature matrix\n",
        "X = pd.concat([\n",
        "    df_binary[['campaign_days', 'launch_month', 'launch_year', 'log_goal']],\n",
        "    main_cat_dummies,\n",
        "    currency_dummies,\n",
        "    country_dummies\n",
        "], axis=1)\n",
        "\n",
        "print(f\"\\nFinal feature matrix shape: {X.shape}\")\n",
        "print(f\"Number of features: {X.shape[1]}\")"
      ]
    },
    {
      "cell_type": "markdown",
      "metadata": {
        "id": "C1sEjdXe6LZm"
      },
      "source": [
        "#### Handle any missing values (Hint: use median imputation)"
      ]
    },
    {
      "cell_type": "code",
      "execution_count": 12,
      "metadata": {
        "id": "PerrpNre6JGc"
      },
      "outputs": [
        {
          "name": "stdout",
          "output_type": "stream",
          "text": [
            "\n",
            "Missing values:\n",
            "ID                  0\n",
            "name                0\n",
            "category            0\n",
            "main_category       0\n",
            "currency            0\n",
            "deadline            0\n",
            "goal                0\n",
            "launched            0\n",
            "pledged             0\n",
            "state               0\n",
            "backers             0\n",
            "country             0\n",
            "usd pledged         0\n",
            "usd_pledged_real    0\n",
            "usd_goal_real       0\n",
            "campaign_days       0\n",
            "launch_month        0\n",
            "launch_year         0\n",
            "log_goal            0\n",
            "dtype: int64\n"
          ]
        }
      ],
      "source": [
        "#<<<<<<<<<<<<<<< Your Code Here >>>>>>>>>>>>>>>>>>>>>\n",
        "df_binary['usd pledged']=df_binary['usd pledged'].fillna(df_binary['usd pledged'].median())\n",
        "print(\"\\nMissing values:\")\n",
        "print(df_binary.isnull().sum())"
      ]
    },
    {
      "cell_type": "markdown",
      "metadata": {
        "id": "a4r3i4uQ6Wkt"
      },
      "source": [
        "#### Split data (80/20 train/test split)\n"
      ]
    },
    {
      "cell_type": "code",
      "execution_count": 13,
      "metadata": {
        "id": "yWUIWpGi6bGd"
      },
      "outputs": [],
      "source": [
        "X_train, X_test, y_train, y_test = train_test_split(\n",
        "    X, y, test_size=0.2, random_state=42, stratify=y\n",
        ")"
      ]
    },
    {
      "cell_type": "code",
      "execution_count": 14,
      "metadata": {
        "colab": {
          "base_uri": "https://localhost:8080/"
        },
        "id": "Nox1_kIF6kxi",
        "outputId": "bac78937-dd22-4317-f920-ef28611ae6a5"
      },
      "outputs": [
        {
          "name": "stdout",
          "output_type": "stream",
          "text": [
            "\n",
            "Train set size: (70168, 56)\n",
            "Test set size: (17542, 56)\n"
          ]
        }
      ],
      "source": [
        "print(f\"\\nTrain set size: {X_train.shape}\")\n",
        "print(f\"Test set size: {X_test.shape}\")"
      ]
    },
    {
      "cell_type": "markdown",
      "metadata": {
        "id": "UuAkA2Gbh2pN"
      },
      "source": [
        "## Part 1: Conceptual Warm-up (20 pts)"
      ]
    },
    {
      "cell_type": "markdown",
      "metadata": {
        "id": "BE2HL0_Xh5xu"
      },
      "source": [
        "### Q1 (5 pts): If a model includes many irrelevant features, what happens to bias and variance?\n",
        "Answer (1–2 sentences): Many irrelevant features → variance increases, bias stays similar.\n",
        "\n"
      ]
    },
    {
      "cell_type": "markdown",
      "metadata": {
        "id": "uQvmVUB3iBoT"
      },
      "source": [
        "### Q2 (10 pts): Match each feature selection paradigm with an advantage and disadvantage.\n",
        "\n",
        "\n",
        "\n"
      ]
    },
    {
      "cell_type": "code",
      "execution_count": 15,
      "metadata": {
        "id": "dP7OOt03hy4j"
      },
      "outputs": [],
      "source": [
        "# Provided options:\n",
        "advantages = [\n",
        "    \"Fast and simple\",\n",
        "    \"Considers feature interactions\",\n",
        "    \"Built into the model, efficient\"\n",
        "]\n",
        "disadvantages = [\n",
        "    \"Ignores interactions\",\n",
        "    \"Computationally expensive\",\n",
        "    \"Depends on model choice\"\n",
        "]\n",
        "\n",
        "# Match answers in dictionary form: {\"Filter\": (adv, disadv), ...}\n",
        "answers = {\n",
        "    \"Filter\": (\"Fast and simple\", \"Ignores interactions\"),\n",
        "    \"Wrapper\": (\"Considers feature interactions\", \"Computationally expensive\"),\n",
        "    \"Embedded\": (\"Built into the model, efficient\", \"Depends on model choice\")\n",
        "}"
      ]
    },
    {
      "cell_type": "markdown",
      "metadata": {
        "id": "B8WektmbiNFG"
      },
      "source": [
        "### Q3 (5 pts): Why can cross-validation give an optimistic estimate if feature selection is done incorrectly?\n",
        "Answer (1–2 sentences):\n",
        "- Because information from the test folds leaks into the model, making performance appear better than it really is.\n"
      ]
    },
    {
      "cell_type": "markdown",
      "metadata": {
        "id": "o98MXdntiV03"
      },
      "source": [
        "## Part 2: Practical Feature Selection (50 pts)"
      ]
    },
    {
      "cell_type": "code",
      "execution_count": 16,
      "metadata": {
        "id": "WOiGpEEI7C5i"
      },
      "outputs": [],
      "source": [
        "results = {}"
      ]
    },
    {
      "cell_type": "markdown",
      "metadata": {
        "id": "6RBNtbcSiwv_"
      },
      "source": [
        "### 2.1 Baseline Model (10 pts)"
      ]
    },
    {
      "cell_type": "markdown",
      "metadata": {
        "id": "jiUdFjMri0mq"
      },
      "source": [
        "#### Train logistic regression on all features"
      ]
    },
    {
      "cell_type": "code",
      "execution_count": 17,
      "metadata": {
        "colab": {
          "base_uri": "https://localhost:8080/"
        },
        "id": "qnzQ9WflitZ6",
        "outputId": "2ca82968-48b2-4a3b-86e1-12e586ac679d"
      },
      "outputs": [
        {
          "name": "stdout",
          "output_type": "stream",
          "text": [
            "Number of features: 56\n",
            "Training accuracy: 0.6475\n",
            "Testing accuracy: 0.6502\n",
            "Overfitting gap: -0.0028\n"
          ]
        }
      ],
      "source": [
        "# Pseudocode:\n",
        "# model = build_logistic_regression()\n",
        "# fit_model(model, X_train, y_train)\n",
        "# train_acc_base, test_acc_base = evaluate_model(model, X_test, y_test)\n",
        "\n",
        "#<<<<<<<<<<<<<<< Your Code Here >>>>>>>>>>>>>>>>>>>>>\n",
        "from sklearn.pipeline import make_pipeline\n",
        "clf=make_pipeline(StandardScaler(),LogisticRegression(max_iter=1000))\n",
        "model=clf.fit(X_train,y_train)\n",
        "train_acc_base = model.score(X_train, y_train)\n",
        "test_acc_base = model.score(X_test, y_test)\n",
        "\n",
        "\n",
        "#<<<<<<<<<<<<<<< End >>>>>>>>>>>>>>>>>>>>>\n",
        "\n",
        "print(f\"Number of features: {X_train.shape[1]}\")\n",
        "print(f\"Training accuracy: {train_acc_base:.4f}\")\n",
        "print(f\"Testing accuracy: {test_acc_base:.4f}\")\n",
        "print(f\"Overfitting gap: {(train_acc_base - test_acc_base):.4f}\")\n",
        "\n",
        "results['Baseline (All)'] = {'train': train_acc_base, 'test': test_acc_base, 'n_features': X_train.shape[1]}"
      ]
    },
    {
      "cell_type": "markdown",
      "metadata": {
        "id": "UrtV6DodjcjF"
      },
      "source": [
        "### 2.2 Manual Feature Selection (10 pts)\n",
        "#### Based on your exploration in Part 0, choose 2 features you think matter most."
      ]
    },
    {
      "cell_type": "code",
      "execution_count": 18,
      "metadata": {
        "colab": {
          "base_uri": "https://localhost:8080/"
        },
        "id": "FHa9yhZrjFf0",
        "outputId": "78660ef9-0234-410a-c9e1-2433249b1bbb"
      },
      "outputs": [
        {
          "name": "stdout",
          "output_type": "stream",
          "text": [
            "Selected features: ['campaign_days', 'log_goal']\n"
          ]
        }
      ],
      "source": [
        "manual_features = ['campaign_days', 'log_goal']\n",
        "\n",
        "print(f\"Selected features: {manual_features}\")"
      ]
    },
    {
      "cell_type": "markdown",
      "metadata": {
        "id": "AhYPq3tNjn3U"
      },
      "source": [
        "#### Train a logistic regression on chosen features"
      ]
    },
    {
      "cell_type": "code",
      "execution_count": 19,
      "metadata": {
        "colab": {
          "base_uri": "https://localhost:8080/"
        },
        "id": "HM2uFGStjlb4",
        "outputId": "9919f1d9-53df-42ec-f479-dd653b8affcb"
      },
      "outputs": [
        {
          "name": "stdout",
          "output_type": "stream",
          "text": [
            "Number of features: 2\n",
            "Training accuracy: 0.6141\n",
            "Testing accuracy: 0.6110\n",
            "Overfitting gap: 0.0031\n"
          ]
        }
      ],
      "source": [
        "# Pseudocode:\n",
        "# model = build_logistic_regression()\n",
        "# fit_model(model, X_train[chosen_features], y_train)\n",
        "# train_acc_manual, test_acc_manual = evaluate_model(model, X_test[chosen_features], y_test)\n",
        "\n",
        "#<<<<<<<<<<<<<<< Your Code Here >>>>>>>>>>>>>>>>>>>>>\n",
        "clf=make_pipeline(StandardScaler(),LogisticRegression(max_iter=1000))\n",
        "model=clf.fit(X_train[manual_features],y_train)\n",
        "train_acc_manual = model.score(X_train[manual_features], y_train)\n",
        "test_acc_manual = model.score(X_test[manual_features], y_test)\n",
        "\n",
        "\n",
        "#<<<<<<<<<<<<<<< End >>>>>>>>>>>>>>>>>>>>>\n",
        "\n",
        "\n",
        "print(f\"Number of features: {len(manual_features)}\")\n",
        "print(f\"Training accuracy: {train_acc_manual:.4f}\")\n",
        "print(f\"Testing accuracy: {test_acc_manual:.4f}\")\n",
        "print(f\"Overfitting gap: {(train_acc_manual - test_acc_manual):.4f}\")\n",
        "\n",
        "results['Manual'] = {'train': train_acc_manual, 'test': test_acc_manual, 'n_features': len(manual_features)}"
      ]
    },
    {
      "cell_type": "markdown",
      "metadata": {
        "id": "iIYDNFRBj3_D"
      },
      "source": [
        "### 2.3 Filter Methods (10 pts)\n",
        "#### Use univariate tests to keep top 10 features"
      ]
    },
    {
      "cell_type": "code",
      "execution_count": 20,
      "metadata": {
        "colab": {
          "base_uri": "https://localhost:8080/"
        },
        "id": "BtJakMx0j5t5",
        "outputId": "f75053f9-8c92-45e5-be15-140c367213de"
      },
      "outputs": [
        {
          "name": "stdout",
          "output_type": "stream",
          "text": [
            "Number of features: 10\n",
            "Training accuracy: 0.6388\n",
            "Testing accuracy: 0.6381\n",
            "Overfitting gap: 0.0007\n"
          ]
        }
      ],
      "source": [
        "# Pseudocode:\n",
        "# selected = select_k_best(X_train, y_train, k=10)\n",
        "# fit_model(model, X_train[selected], y_train)\n",
        "# train_acc_filter, test_acc_filter = evaluate_model(model, X_test[selected], y_test)\n",
        "\n",
        "#<<<<<<<<<<<<<<< Your Code Here >>>>>>>>>>>>>>>>>>>>>\n",
        "selected = SelectKBest(score_func=f_classif, k=10).fit(X_train, y_train).get_support(indices=True)\n",
        "selected_features = X_train.columns[selected]\n",
        "clf=make_pipeline(StandardScaler(),LogisticRegression(max_iter=1000))\n",
        "model=clf.fit(X_train[selected_features],y_train)\n",
        "train_acc_filter = model.score(X_train[selected_features], y_train)\n",
        "test_acc_filter = model.score(X_test[selected_features], y_test)\n",
        "\n",
        "\n",
        "#<<<<<<<<<<<<<<< End >>>>>>>>>>>>>>>>>>>>>\n",
        "\n",
        "print(f\"Number of features: 10\")\n",
        "print(f\"Training accuracy: {train_acc_filter:.4f}\")\n",
        "print(f\"Testing accuracy: {test_acc_filter:.4f}\")\n",
        "print(f\"Overfitting gap: {(train_acc_filter - test_acc_filter):.4f}\")\n",
        "\n",
        "results['Filter (K=10)'] = {'train': train_acc_filter, 'test': test_acc_filter, 'n_features': 10}"
      ]
    },
    {
      "cell_type": "markdown",
      "metadata": {
        "id": "nIsfZ6U4kM3l"
      },
      "source": [
        "### 2.4 Wrapper (RFE) (10 pts)\n",
        "#### Use recursive feature elimination to select 10 features"
      ]
    },
    {
      "cell_type": "code",
      "execution_count": 21,
      "metadata": {
        "colab": {
          "base_uri": "https://localhost:8080/"
        },
        "id": "KWP8DAVikLU-",
        "outputId": "a29d7059-879a-4215-b5b6-c369f89bc9f7"
      },
      "outputs": [
        {
          "name": "stdout",
          "output_type": "stream",
          "text": [
            "Number of features: 10\n",
            "Training accuracy: 0.6379\n",
            "Testing accuracy: 0.6403\n",
            "Overfitting gap: -0.0024\n"
          ]
        }
      ],
      "source": [
        "# Pseudocode:\n",
        "# selected = recursive_feature_elimination(model, X_train, y_train, n=10)\n",
        "# train_acc_wrapper,test_acc_wrapper = evaluate_model(model, X_test[selected], y_test)\n",
        "\n",
        "#<<<<<<<<<<<<<<< Your Code Here >>>>>>>>>>>>>>>>>>>>>\n",
        "# The subsequent training uses the \"normalization + logistic regression\" pipeline.\n",
        "# For consistency and more stable convergence, so normalize the data first, and then perform RFE. And RFE cannot directly include Pipeline.\n",
        "\n",
        "X_train_t=StandardScaler().fit_transform(X_train)\n",
        "selected = RFE(estimator=LogisticRegression(max_iter=1000), n_features_to_select=10).fit(X_train_t, y_train).get_support(indices=True)\n",
        "selected_features = X_train.columns[selected]\n",
        "lr_wrapper = make_pipeline(StandardScaler(),LogisticRegression(max_iter=1000)).fit(X_train[selected_features],y_train)\n",
        "X_train_rfe = X_train[selected_features]\n",
        "X_test_rfe = X_test[selected_features]\n",
        "\n",
        "\n",
        "#<<<<<<<<<<<<<<< End >>>>>>>>>>>>>>>>>>>>>\n",
        "\n",
        "train_acc_wrapper = lr_wrapper.score(X_train_rfe, y_train)\n",
        "test_acc_wrapper = lr_wrapper.score(X_test_rfe, y_test)\n",
        "\n",
        "print(f\"Number of features: 10\")\n",
        "print(f\"Training accuracy: {train_acc_wrapper:.4f}\")\n",
        "print(f\"Testing accuracy: {test_acc_wrapper:.4f}\")\n",
        "print(f\"Overfitting gap: {(train_acc_wrapper - test_acc_wrapper):.4f}\")\n",
        "\n",
        "results['Wrapper (RFE)'] = {'train': train_acc_wrapper, 'test': test_acc_wrapper, 'n_features': 10}"
      ]
    },
    {
      "cell_type": "markdown",
      "metadata": {
        "id": "GwIMTJ2Ykdb0"
      },
      "source": [
        "### 2.5 Embedded (L1 Logistic Regression) (10 pts)\n",
        "#### Train logistic regression with L1 penalty"
      ]
    },
    {
      "cell_type": "code",
      "execution_count": 22,
      "metadata": {
        "colab": {
          "base_uri": "https://localhost:8080/"
        },
        "id": "kLGyFralkbDv",
        "outputId": "28e3443b-e30d-41cc-df4f-4206e4e931f9"
      },
      "outputs": [
        {
          "name": "stdout",
          "output_type": "stream",
          "text": [
            "Number of non-zero features: 53\n",
            "Non-zero features: Index(['campaign_days', 'launch_month', 'launch_year', 'log_goal', 'Art'], dtype='object')... (showing first 5)\n",
            "Training accuracy: 0.6475\n",
            "Testing accuracy: 0.6501\n",
            "Overfitting gap: -0.0026\n"
          ]
        }
      ],
      "source": [
        " # Pseudocode:\n",
        "# l1_model = build_l1_logistic_regression()\n",
        "# fit_model(l1_model, X_train, y_train)\n",
        "# number_nonzero, nonzero_features = count_find_nonzero_coefficients(l1_model)\n",
        "# train_acc_l1, test_acc_l1 = evaluate_model(l1_model, X_test, y_test)\n",
        "\n",
        "# Scale features for L1 regularization\n",
        "scaler = StandardScaler()\n",
        "X_train_scaled = scaler.fit_transform(X_train)\n",
        "X_test_scaled = scaler.transform(X_test)\n",
        "\n",
        "#<<<<<<<<<<<<<<< Your Code Here >>>>>>>>>>>>>>>>>>>>>\n",
        "l1_model = LogisticRegression(penalty='l1', solver='saga', max_iter=5000)\n",
        "l1_model.fit(X_train_scaled, y_train)\n",
        "\n",
        "non_zero_coef = np.sum(l1_model.coef_ != 0)\n",
        "non_zero_features = X_train.columns[(l1_model.coef_ != 0).flatten()]\n",
        "train_acc_l1 = l1_model.score(X_train_scaled, y_train)\n",
        "test_acc_l1 = l1_model.score(X_test_scaled, y_test)\n",
        "\n",
        "\n",
        "#<<<<<<<<<<<<<<< End >>>>>>>>>>>>>>>>>>>>>\n",
        "\n",
        "\n",
        "print(f\"Number of non-zero features: {non_zero_coef}\")\n",
        "print(f\"Non-zero features: {non_zero_features[:5]}... (showing first 5)\")\n",
        "print(f\"Training accuracy: {train_acc_l1:.4f}\")\n",
        "print(f\"Testing accuracy: {test_acc_l1:.4f}\")\n",
        "print(f\"Overfitting gap: {(train_acc_l1 - test_acc_l1):.4f}\")\n",
        "\n",
        "results['L1 Embedded'] = {'train': train_acc_l1, 'test': test_acc_l1, 'n_features': non_zero_coef}\n"
      ]
    },
    {
      "cell_type": "markdown",
      "metadata": {
        "id": "uJBftTZBlSLT"
      },
      "source": [
        "### 2.6 Bias–Variance Comparison with Decision Trees (10 pts)\n",
        "#### Train shallow and deep trees"
      ]
    },
    {
      "cell_type": "code",
      "execution_count": 23,
      "metadata": {
        "colab": {
          "base_uri": "https://localhost:8080/"
        },
        "id": "S9kL7hyKlRVc",
        "outputId": "97559ff0-4512-403a-97c1-7f11e9974869"
      },
      "outputs": [
        {
          "name": "stdout",
          "output_type": "stream",
          "text": [
            "Shallow Tree (max_depth=3):\n",
            "Training accuracy: 0.6247\n",
            "Testing accuracy: 0.6243\n",
            "Overfitting gap: 0.0003\n",
            "\n",
            "Deep Tree (max_depth=20):\n",
            "Training accuracy: 0.8163\n",
            "Testing accuracy: 0.6209\n",
            "Overfitting gap: 0.1954\n"
          ]
        }
      ],
      "source": [
        "# Pseudocode:\n",
        "# shallow_tree = build_decision_tree(depth=3)\n",
        "# deep_tree = build_decision_tree()\n",
        "# fit both, evaluate train/test\n",
        "\n",
        "# Shallow tree (high bias, low variance)\n",
        "\n",
        "#<<<<<<<<<<<<<<< Your Code Here >>>>>>>>>>>>>>>>>>>>>\n",
        "shallow_tree = DecisionTreeClassifier(max_depth=3, random_state=42)\n",
        "shallow_tree.fit(X_train, y_train)\n",
        "train_acc_shallow = shallow_tree.score(X_train, y_train)\n",
        "test_acc_shallow = shallow_tree.score(X_test, y_test)\n",
        "\n",
        "\n",
        "#<<<<<<<<<<<<<<< End >>>>>>>>>>>>>>>>>>>>>\n",
        "\n",
        "print(\"Shallow Tree (max_depth=3):\")\n",
        "print(f\"Training accuracy: {train_acc_shallow:.4f}\")\n",
        "print(f\"Testing accuracy: {test_acc_shallow:.4f}\")\n",
        "print(f\"Overfitting gap: {(train_acc_shallow - test_acc_shallow):.4f}\")\n",
        "\n",
        "# Deep tree (low bias, high variance)\n",
        "\n",
        "#<<<<<<<<<<<<<<< Your Code Here >>>>>>>>>>>>>>>>>>>>>\n",
        "deep_tree = DecisionTreeClassifier(max_depth=20, random_state=42)\n",
        "deep_tree.fit(X_train, y_train)\n",
        "train_acc_deep = deep_tree.score(X_train, y_train)\n",
        "test_acc_deep = deep_tree.score(X_test, y_test)\n",
        "\n",
        "\n",
        "#<<<<<<<<<<<<<<< End >>>>>>>>>>>>>>>>>>>>>\n",
        "\n",
        "print(\"\\nDeep Tree (max_depth=20):\")\n",
        "print(f\"Training accuracy: {train_acc_deep:.4f}\")\n",
        "print(f\"Testing accuracy: {test_acc_deep:.4f}\")\n",
        "print(f\"Overfitting gap: {(train_acc_deep - test_acc_deep):.4f}\")\n",
        "\n",
        "results['Shallow Tree'] = {'train': train_acc_shallow, 'test': test_acc_shallow, 'n_features': X_train.shape[1]}\n",
        "results['Deep Tree'] = {'train': train_acc_deep, 'test': test_acc_deep, 'n_features': X_train.shape[1]}"
      ]
    },
    {
      "cell_type": "markdown",
      "metadata": {
        "id": "p8XTLQE2lgUI"
      },
      "source": [
        "### Visualizations"
      ]
    },
    {
      "cell_type": "code",
      "execution_count": 24,
      "metadata": {
        "colab": {
          "base_uri": "https://localhost:8080/",
          "height": 362
        },
        "id": "fzXxA1-9ldsg",
        "outputId": "99cf71dc-f7a9-4f69-a664-468601fc6440"
      },
      "outputs": [
        {
          "data": {
            "image/png": "[encoded data removed]",
            "text/plain": [
              "<Figure size 1500x500 with 3 Axes>"
            ]
          },
          "metadata": {},
          "output_type": "display_data"
        }
      ],
      "source": [
        "# Create comparison plots\n",
        "fig, axes = plt.subplots(1, 3, figsize=(15, 5))\n",
        "\n",
        "# Plot 1: Test Accuracies\n",
        "methods = list(results.keys())\n",
        "test_accs = [results[m]['test'] for m in methods]\n",
        "train_accs = [results[m]['train'] for m in methods]\n",
        "n_features = [results[m]['n_features'] for m in methods]\n",
        "\n",
        "ax1 = axes[0]\n",
        "x_pos = np.arange(len(methods))\n",
        "bars = ax1.bar(x_pos, test_accs, color='skyblue', edgecolor='navy')\n",
        "ax1.set_xlabel('Method')\n",
        "ax1.set_ylabel('Test Accuracy')\n",
        "ax1.set_title('Test Accuracy Comparison')\n",
        "ax1.set_xticks(x_pos)\n",
        "ax1.set_xticklabels(methods, rotation=45, ha='right')\n",
        "ax1.grid(axis='y', alpha=0.3)\n",
        "\n",
        "# Add value labels on bars\n",
        "for i, (bar, val) in enumerate(zip(bars, test_accs)):\n",
        "    ax1.text(bar.get_x() + bar.get_width()/2, bar.get_height() + 0.01,\n",
        "             f'{val:.3f}', ha='center', va='bottom', fontsize=9)\n",
        "\n",
        "# Plot 2: Train vs Test (Overfitting Analysis)\n",
        "ax2 = axes[1]\n",
        "width = 0.35\n",
        "x_pos = np.arange(len(methods))\n",
        "bars1 = ax2.bar(x_pos - width/2, train_accs, width, label='Train', color='lightcoral')\n",
        "bars2 = ax2.bar(x_pos + width/2, test_accs, width, label='Test', color='skyblue')\n",
        "ax2.set_xlabel('Method')\n",
        "ax2.set_ylabel('Accuracy')\n",
        "ax2.set_title('Train vs Test Accuracy (Overfitting Analysis)')\n",
        "ax2.set_xticks(x_pos)\n",
        "ax2.set_xticklabels(methods, rotation=45, ha='right')\n",
        "ax2.legend()\n",
        "ax2.grid(axis='y', alpha=0.3)\n",
        "\n",
        "# Plot 3: Number of Features vs Test Accuracy\n",
        "ax3 = axes[2]\n",
        "# Only plot methods with different feature counts\n",
        "unique_methods = ['Manual', 'Filter (K=10)', 'Wrapper (RFE)', 'L1 Embedded', 'Baseline (All)']\n",
        "unique_n_features = [results[m]['n_features'] for m in unique_methods]\n",
        "unique_test_accs = [results[m]['test'] for m in unique_methods]\n",
        "\n",
        "ax3.scatter(unique_n_features, unique_test_accs, s=100, alpha=0.6, color='green')\n",
        "for i, txt in enumerate(unique_methods):\n",
        "    ax3.annotate(txt, (unique_n_features[i], unique_test_accs[i]),\n",
        "                 fontsize=9, xytext=(5,5), textcoords='offset points')\n",
        "ax3.set_xlabel('Number of Features')\n",
        "ax3.set_ylabel('Test Accuracy')\n",
        "ax3.set_title('Features vs Performance Trade-off')\n",
        "ax3.grid(True, alpha=0.3)\n",
        "\n",
        "plt.tight_layout()\n",
        "plt.show()"
      ]
    },
    {
      "cell_type": "markdown",
      "metadata": {
        "id": "P8KRseuAlk_-"
      },
      "source": [
        "## Part 3: Wrap-up Reflections (20 pts)\n",
        "\n",
        "### Q1 (10 pts): If you had to deploy this model on a low-resource device, which feature selection method would you choose and why?\n",
        "Your answer here: \n",
        "- Embedded method like L1 regularization -> L1 regularization naturally drives many coefficients to exactly zero, leaving only the most important features, which reduces both storage and computational cost.\n",
        "\n",
        "### Q2 (10 pts): For the deep and shallow tree in Part 2: Explain why their accuracies differed in terms of bias vs variance.\n",
        "Your answer here: \n",
        "- SDT cannot capture complex decision boundaries, and underfits the data, leading to lower accuracy on both training and test sets.\n",
        "- DDT(deep dt) can perfectly fit the training data, leading to very low training error, but tends to overfit noise, leading to lower accuracy on the test set. "
      ]
    },
    {
      "cell_type": "markdown",
      "metadata": {
        "id": "qCIw070gl3Dp"
      },
      "source": [
        "## Summary"
      ]
    },
    {
      "cell_type": "code",
      "execution_count": 25,
      "metadata": {
        "colab": {
          "base_uri": "https://localhost:8080/"
        },
        "id": "_-peAoRUl4RF",
        "outputId": "e48ce777-0dfe-46a1-c2eb-32696155f7d6"
      },
      "outputs": [
        {
          "name": "stdout",
          "output_type": "stream",
          "text": [
            "\n",
            "==================================================\n",
            "FINAL SUMMARY TABLE\n",
            "==================================================\n",
            "        Method  N_Features  Train_Acc  Test_Acc  Overfit_Gap\n",
            "Baseline (All)          56   0.647460  0.650211    -0.002751\n",
            "   L1 Embedded          53   0.647475  0.650097    -0.002622\n",
            " Wrapper (RFE)          10   0.637869  0.640292    -0.002423\n",
            " Filter (K=10)          10   0.638753  0.638069     0.000684\n",
            "  Shallow Tree          56   0.624672  0.624330     0.000342\n",
            "     Deep Tree          56   0.816270  0.620853     0.195417\n",
            "        Manual           2   0.614112  0.611048     0.003064\n"
          ]
        }
      ],
      "source": [
        "# Final Summary Table\n",
        "print(\"\\n\" + \"=\"*50)\n",
        "print(\"FINAL SUMMARY TABLE\")\n",
        "print(\"=\"*50)\n",
        "\n",
        "summary_df = pd.DataFrame({\n",
        "    'Method': methods,\n",
        "    'N_Features': n_features,\n",
        "    'Train_Acc': train_accs,\n",
        "    'Test_Acc': test_accs,\n",
        "    'Overfit_Gap': [train_accs[i] - test_accs[i] for i in range(len(train_accs))]\n",
        "})\n",
        "\n",
        "summary_df = summary_df.sort_values('Test_Acc', ascending=False)\n",
        "print(summary_df.to_string(index=False))"
      ]
    }
  ],
  "metadata": {
    "colab": {
      "provenance": []
    },
    "kernelspec": {
      "display_name": "ml_lab1",
      "language": "python",
      "name": "python3"
    },
    "language_info": {
      "codemirror_mode": {
        "name": "ipython",
        "version": 3
      },
      "file_extension": ".py",
      "mimetype": "text/x-python",
      "name": "python",
      "nbconvert_exporter": "python",
      "pygments_lexer": "ipython3",
      "version": "3.10.18"
    }
  },
  "nbformat": 4,
  "nbformat_minor": 0
}
